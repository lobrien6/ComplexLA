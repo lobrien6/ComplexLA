{
 "cells": [
  {
   "cell_type": "markdown",
   "id": "bdd7d1b8-1079-484e-a8fd-6cd61b1f142e",
   "metadata": {},
   "source": [
    "### Adding Realistic Substructure to the Lens Mass Model ###\n",
    "This notebook adds more realistic perturbers in the form of sub-halos to the mass model of the lens.\n",
    "First we will import all of the relevant packages and scripts."
   ]
  },
  {
   "cell_type": "code",
   "execution_count": null,
   "id": "763fc38b-a915-444f-8141-78b9159cceb0",
   "metadata": {},
   "outputs": [],
   "source": [
    "#setting os path to import scripts\n",
    "import os\n",
    "import sys\n",
    "module_path = os.path.abspath(os.path.join('..'))\n",
    "if module_path not in sys.path:\n",
    "    sys.path.append(module_path)\n",
    "\n",
    "#importing packages\n",
    "from astropy.visualization import AsinhStretch, ImageNormalize\n",
    "from astropy.visualization import simple_norm\n",
    "import corner\n",
    "import matplotlib.pyplot as plt\n",
    "import matplotlib.colors as mcolors\n",
    "import matplotlib.lines as mlines\n",
    "import numpy as np\n",
    "from paltas.Configs.config_handler_catalog import ConfigHandler\n",
    "import pickle\n",
    "from scipy.stats import multivariate_normal\n",
    "from Scripts import lens_parameters, paltas_model, metrics, network_predictions"
   ]
  },
  {
   "cell_type": "code",
   "execution_count": null,
   "id": "aac6439b-affa-4026-a715-bb3dc5b798cb",
   "metadata": {},
   "outputs": [],
   "source": [
    "%load_ext autoreload\n",
    "%autoreload 2\n",
    "%matplotlib inline"
   ]
  },
  {
   "cell_type": "markdown",
   "id": "da5d7ffe-9a61-4bbf-8f8a-62671edd8d3a",
   "metadata": {},
   "source": [
    "### 1) We will simulate a test set of 100 mock lenses with and withoutsubstructure. ###"
   ]
  },
  {
   "cell_type": "markdown",
   "id": "210c0513-a785-4f43-97db-95617bc7ee33",
   "metadata": {},
   "source": [
    "### 1.1) Generate Sample Parameters ###\n",
    "<br>\n",
    "This will generate the parameters needed for generating a sample of 100 mock lens with and without substructure."
   ]
  },
  {
   "cell_type": "code",
   "execution_count": null,
   "id": "5ae4a882-c793-4895-8d77-c9da89091556",
   "metadata": {},
   "outputs": [],
   "source": [
    "f = open(module_path+'/../Data-Tables/substructure_parameters_catalog.csv', 'w+')\n",
    "f.close()\n",
    "\n",
    "#Define how many lenses will be generated in the sample\n",
    "sample_num = 101\n",
    "\n",
    "#Define how many parameters each lens has\n",
    "param_num = 10\n",
    "\n",
    "param_names = ['index','z_lens', 'gamma_md', 'theta_E_md', 'e1_md', 'e2_md', 'center_x_md', 'center_y_md', 'gamma1_md', 'gamma2_md', 'p_center_x', 'p_center_y', 'z_source', 'mag_app_source', 'R_sersic_source',\n",
    "               'n_sersic_source', 'e1_source', 'e2_source', 'center_x_source', 'center_y_source', 'z_lens_light', 'mag_app_light', 'R_sersic_light', 'n_sersic_light', 'e1_light', 'e2_light', \n",
    "               'z_point_source', 'x_point_source', 'y_point_source', 'mag_app_point_source']\n",
    "#Generate the parameters to be used in the sample\n",
    "param_dict = lens_parameters.perturberparameters(sample_num,module_path)\n",
    "#print(param_dict)\n",
    "\n",
    "with open(module_path+'/../Data-Tables/substructure_parameters_catalog.csv', 'a') as f:\n",
    "    np.savetxt(f, param_names, fmt='%s', newline=',')\n",
    "    f.write('\\n')\n",
    "    np.savetxt(f, param_dict, fmt='%1.15f', delimiter=',')"
   ]
  },
  {
   "cell_type": "markdown",
   "id": "e9eed1a0-4855-4287-aac9-3f0552db48f2",
   "metadata": {},
   "source": [
    "### 1.2) Paltas Model without substructure ###"
   ]
  },
  {
   "cell_type": "code",
   "execution_count": null,
   "id": "85ec661e-57ab-4e9b-a0a3-98f5b6d49b3b",
   "metadata": {},
   "outputs": [],
   "source": [
    "path = module_path+'/'\n",
    "sample_num = 101"
   ]
  },
  {
   "cell_type": "code",
   "execution_count": null,
   "id": "3ab80281-dac4-4d7f-8755-867adbbdb3d9",
   "metadata": {
    "scrolled": true
   },
   "outputs": [],
   "source": [
    "im_WoS, metadata = paltas_model.PaltasModelWoS(path,sample_num)\n",
    "im_WoS = np.asarray(im_WoS)"
   ]
  },
  {
   "cell_type": "code",
   "execution_count": null,
   "id": "b02a08e0-21e4-4d73-bde4-418441ab70ab",
   "metadata": {},
   "outputs": [],
   "source": [
    "fig,axs = plt.subplots(10,10,figsize=(10,10))\n",
    "norm = ImageNormalize(im_WoS[3],stretch=AsinhStretch())\n",
    "\n",
    "n_cols = 10\n",
    "for i in range(0,100):\n",
    "    axs[i//n_cols,i%n_cols].imshow(im_WoS[i], norm=norm)\n",
    "    axs[i//n_cols,i%n_cols].set_xticks([])\n",
    "    axs[i//n_cols,i%n_cols].set_yticks([])\n",
    "\n",
    "plt.show()\n",
    "fig.savefig(module_path+'/../Images/Sub_WoS_100.png',bbox_inches='tight')"
   ]
  },
  {
   "cell_type": "markdown",
   "id": "fe9efb82-9e70-4f9c-9a94-ab1c890324a2",
   "metadata": {},
   "source": [
    "### 1.3) Paltas model with substructure ###"
   ]
  },
  {
   "cell_type": "code",
   "execution_count": null,
   "id": "21f86672-3c8e-49be-8d10-47238552a655",
   "metadata": {
    "scrolled": true
   },
   "outputs": [],
   "source": [
    "im_WS, metadata = paltas_model.PaltasModelWS(path,sample_num)\n",
    "im_WS = np.asarray(im_WS)\n",
    "#plt.axis('off')\n",
    "print(np.shape(im_WS))\n",
    "#plt.imshow(im_WS,norm=simple_norm(im,stretch='log',min_cut=1e-6))"
   ]
  },
  {
   "cell_type": "code",
   "execution_count": null,
   "id": "4771691f-8811-4dff-8afa-7e3562c43975",
   "metadata": {},
   "outputs": [],
   "source": [
    "fig,axs = plt.subplots(10,10,figsize=(10,10))\n",
    "norm = ImageNormalize(im_WS[3],stretch=AsinhStretch())\n",
    "\n",
    "n_cols = 10\n",
    "for i in range(0,100):\n",
    "    axs[i//n_cols,i%n_cols].imshow(im_WS[i], norm=norm)\n",
    "    axs[i//n_cols,i%n_cols].set_xticks([])\n",
    "    axs[i//n_cols,i%n_cols].set_yticks([])\n",
    "\n",
    "plt.show()\n",
    "fig.savefig(module_path+'/../Images/Sub_WS_100.png',bbox_inches='tight')"
   ]
  },
  {
   "cell_type": "markdown",
   "id": "91087c93-d24d-45e4-ab82-154a8e401920",
   "metadata": {},
   "source": [
    "### 1.4) Residuals ###\n",
    "<br>\n",
    "Now we will plot the residuals between the lenses with and without substructure."
   ]
  },
  {
   "cell_type": "code",
   "execution_count": null,
   "id": "ffd1a28a-0d4d-4ed7-a2ce-396e27bff7f5",
   "metadata": {},
   "outputs": [],
   "source": [
    "resid_norm =mcolors.TwoSlopeNorm(vmin=-0.025,vcenter=0,vmax=0.025)\n",
    "fig,axs = plt.subplots(10,10,figsize=(10,10))\n",
    "\n",
    "n_cols = 10\n",
    "for i in range(0,100):\n",
    "    imris = axs[i//n_cols,i%n_cols].imshow(im_WoS[i]-im_WS[i], norm=resid_norm,cmap='bwr')\n",
    "    axs[i//n_cols,i%n_cols].set_xticks([])\n",
    "    axs[i//n_cols,i%n_cols].set_yticks([])\n",
    "\n",
    "fig.colorbar(imris, ax=axs)\n",
    "plt.show()\n",
    "fig.savefig(module_path+'/../Images/Sub_Res_100.png',bbox_inches='tight')"
   ]
  },
  {
   "cell_type": "code",
   "execution_count": null,
   "id": "572fd51d-b7c9-457b-8c2a-b99b5d2771cb",
   "metadata": {},
   "outputs": [],
   "source": []
  }
 ],
 "metadata": {
  "kernelspec": {
   "display_name": "Python 3 (ipykernel)",
   "language": "python",
   "name": "python3"
  },
  "language_info": {
   "codemirror_mode": {
    "name": "ipython",
    "version": 3
   },
   "file_extension": ".py",
   "mimetype": "text/x-python",
   "name": "python",
   "nbconvert_exporter": "python",
   "pygments_lexer": "ipython3",
   "version": "3.12.1"
  }
 },
 "nbformat": 4,
 "nbformat_minor": 5
}
