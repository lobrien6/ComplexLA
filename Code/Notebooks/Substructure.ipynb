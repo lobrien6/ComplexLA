{
 "cells": [
  {
   "cell_type": "markdown",
   "id": "bdd7d1b8-1079-484e-a8fd-6cd61b1f142e",
   "metadata": {},
   "source": [
    "### Adding Realistic Substructure to the Lens Mass Model ###\n",
    "This notebook adds more realistic perturbers in the form of subhalos to the mass model of the lens.\n",
    "First we will import all of the relevant packages and scripts."
   ]
  },
  {
   "cell_type": "code",
   "execution_count": null,
   "id": "763fc38b-a915-444f-8141-78b9159cceb0",
   "metadata": {},
   "outputs": [],
   "source": [
    "#Initializing autoreload\n",
    "%load_ext autoreload\n",
    "%autoreload 2\n",
    "%matplotlib inline\n",
    "\n",
    "#Adding parent directory to working path\n",
    "import os\n",
    "import sys\n",
    "\n",
    "parent_dir = os.path.abspath(os.path.join(os.getcwd(), os.pardir))\n",
    "sys.path.append(parent_dir)\n",
    "\n",
    "#Importing packages\n",
    "from astropy.visualization import AsinhStretch, ImageNormalize\n",
    "import corner\n",
    "import matplotlib.colors as mcolors\n",
    "import matplotlib.lines as mlines\n",
    "import matplotlib.pyplot as plt\n",
    "import numpy as np\n",
    "from scipy.stats import multivariate_normal\n",
    "from Scripts import lens_parameters, metrics, network_predictions"
   ]
  },
  {
   "cell_type": "markdown",
   "id": "210c0513-a785-4f43-97db-95617bc7ee33",
   "metadata": {},
   "source": [
    "### 1) Generate Sample Parameters ###\n",
    "<br>\n",
    "This will generate the parameters needed for generating a sample of 100 mock lens with and without substructure."
   ]
  },
  {
   "cell_type": "code",
   "execution_count": null,
   "id": "5ae4a882-c793-4895-8d77-c9da89091556",
   "metadata": {},
   "outputs": [],
   "source": [
    "#Define how many lenses will be generated in the sample\n",
    "sample_num = 101\n",
    "\n",
    "#Define how many parameters each lens has\n",
    "param_num = 10\n",
    "\n",
    "param_names = ['index','z_lens', 'gamma_md', 'theta_E_md', 'e1_md', 'e2_md', 'center_x_md', 'center_y_md', 'gamma1_md', 'gamma2_md', 'p_center_x', 'p_center_y', 'z_source', 'mag_app_source', 'R_sersic_source',\n",
    "               'n_sersic_source', 'e1_source', 'e2_source', 'center_x_source', 'center_y_source', 'z_lens_light', 'mag_app_light', 'R_sersic_light', 'n_sersic_light', 'e1_light', 'e2_light', \n",
    "               'z_point_source', 'x_point_source', 'y_point_source', 'mag_app_point_source', 'sigma_sub']\n",
    "#Generate the parameters to be used in the sample\n",
    "param_dict = lens_parameters.perturberparameters(sample_num)\n",
    "#print(param_dict)\n",
    "\n",
    "with open('../../Data-Tables/substructure_parameters_catalog.csv', 'w+') as f:\n",
    "    np.savetxt(f, param_names, fmt='%s', newline=',')\n",
    "    f.write('\\n')\n",
    "    np.savetxt(f, param_dict, fmt='%1.15f', delimiter=',')"
   ]
  },
  {
   "cell_type": "markdown",
   "id": "31141c47-5712-4585-911b-72a6f2ebd3e5",
   "metadata": {},
   "source": [
    "### 2) 100 Mock Lens Test Set With and Without Substructure ###\n",
    "<br>\n",
    "Here we will generate images for the network to make predictions and calculuate usefull metrics to get a better sense of how well the prediction posteriors match the known parameters."
   ]
  },
  {
   "cell_type": "markdown",
   "id": "e0b195d6-c10b-4bb2-a4e3-df5139456a80",
   "metadata": {},
   "source": [
    "### 2.1) Generate Images for the Network ###"
   ]
  },
  {
   "cell_type": "code",
   "execution_count": null,
   "id": "b9ff7044-2f12-417a-a2f7-a028359a0315",
   "metadata": {},
   "outputs": [],
   "source": [
    "#Defining sample number in case the above parameter generation was not ran\n",
    "sample_num = 101\n",
    "\n",
    "#Generating images for test set without substructure\n",
    "config_file = '../Configs/substructure_WoS_config.py'\n",
    "image_path = '../Images_for_Network/substructure_WoS_image'\n",
    "y_test, y_pred_WoS, std_pred_WoS, prec_pred_WoS = network_predictions.Predictions(config_file, image_path, sample_num=sample_num)\n",
    "\n",
    "#Generating images for test set with substructure\n",
    "config_file = '../Configs/dark_substructure_config.py'\n",
    "image_path = '../Images_for_Network/substructure_WS_image'\n",
    "y_test, y_pred_WS, std_pred_WS, prec_pred_WS = network_predictions.Predictions(config_file, image_path, sample_num=sample_num)"
   ]
  },
  {
   "cell_type": "markdown",
   "id": "01c28b57",
   "metadata": {},
   "source": [
    "### 2.2) ###\n",
    "\n",
    "Now we will plot all 100 lenses for each test sample and check the residuals."
   ]
  },
  {
   "cell_type": "code",
   "execution_count": null,
   "id": "c2cfbf98-80a5-4f54-b8e9-9d1199de74c8",
   "metadata": {},
   "outputs": [],
   "source": [
    "#Initializing array that will store the images from the image path\n",
    "im_wos = []\n",
    "image_path_wos = '../Images_for_Network/substructure_WoS_image/'\n",
    "\n",
    "#Populating image array\n",
    "for file in os.listdir(image_path_wos):\n",
    "    if file.endswith('.npy'):\n",
    "        im_wos.append(file)\n",
    "\n",
    "#Defining details of the grid\n",
    "im_wos = np.asarray(im_wos)\n",
    "fig,axs = plt.subplots(10,10,figsize=(10,10))\n",
    "n_cols = 10\n",
    "norm_wos = ImageNormalize(np.load(image_path_wos+im_wos[1]),stretch=AsinhStretch())\n",
    "\n",
    "for i in range(0,sample_num-1):\n",
    "    axs[i//n_cols,i%n_cols].imshow(np.load(image_path_wos+im_wos[i]), norm=norm_wos)\n",
    "    axs[i//n_cols,i%n_cols].set_xticks([])\n",
    "    axs[i//n_cols,i%n_cols].set_yticks([])\n",
    "    \n",
    "plt.show()  "
   ]
  },
  {
   "cell_type": "code",
   "execution_count": null,
   "id": "5f69eb8c-ed7b-4563-85f2-0e6b783fc5c7",
   "metadata": {},
   "outputs": [],
   "source": [
    "#Initializing array that will store the images from the image path\n",
    "im_ws = []\n",
    "image_path_ws = '../Images_for_Network/substructure_WS_image/'\n",
    "\n",
    "#Populating image array\n",
    "for file in os.listdir(image_path_ws):\n",
    "    if file.endswith('.npy'):\n",
    "        im_ws.append(file)\n",
    "\n",
    "#Defining details of the grid\n",
    "im_ws = np.asarray(im_ws)\n",
    "fig,axs = plt.subplots(10,10,figsize=(10,10))\n",
    "n_cols = 10\n",
    "norm_ws = ImageNormalize(np.load(image_path_ws+im_ws[1]),stretch=AsinhStretch())\n",
    "\n",
    "for i in range(0,sample_num-1):\n",
    "    axs[i//n_cols,i%n_cols].imshow(np.load(image_path_ws+im_ws[i]), norm=norm_ws)\n",
    "    axs[i//n_cols,i%n_cols].set_xticks([])\n",
    "    axs[i//n_cols,i%n_cols].set_yticks([])\n",
    "    \n",
    "plt.show()  "
   ]
  },
  {
   "cell_type": "markdown",
   "id": "e7245cc0",
   "metadata": {},
   "source": [
    "To check that the image positions are changing when we add subhalos to the main deflector we will plot the residual between the two test sets."
   ]
  },
  {
   "cell_type": "code",
   "execution_count": null,
   "id": "148ca257-94fc-4457-a820-afe5280a97a6",
   "metadata": {},
   "outputs": [],
   "source": [
    "#Setting the norm and color scale\n",
    "resid_norm =mcolors.TwoSlopeNorm(vmin=-0.025,vcenter=0,vmax=0.025)\n",
    "\n",
    "#Defining details of the grid\n",
    "fig,axs = plt.subplots(10,10,figsize=(10,10))\n",
    "n_cols = 10\n",
    "\n",
    "for i in range(0,sample_num-1):\n",
    "    imris = axs[i//n_cols,i%n_cols].imshow(np.load(image_path_ws+im_ws[i])-np.load(image_path_wos+im_wos[i]), norm=resid_norm,cmap='bwr')\n",
    "    axs[i//n_cols,i%n_cols].set_xticks([])\n",
    "    axs[i//n_cols,i%n_cols].set_yticks([])\n",
    "\n",
    "fig.colorbar(imris, ax=axs)\n",
    "plt.show()"
   ]
  },
  {
   "cell_type": "markdown",
   "id": "14488fde-1237-4fec-a80a-5e34b4b28dda",
   "metadata": {},
   "source": [
    "### 2.2) Calculate Metrics ###"
   ]
  },
  {
   "cell_type": "code",
   "execution_count": null,
   "id": "60586b3a-316a-4157-8776-e15d44c1c2ca",
   "metadata": {},
   "outputs": [],
   "source": [
    "#Generating metrics for standard deviation, accuracy, and bias\n",
    "sample_num = 101\n",
    "param_num = 10\n",
    "mean_metrics = metrics.PerturberSampleTrunc_Substructure(sample_num, param_num, y_test, y_pred_WoS, y_pred_WS, std_pred_WoS, std_pred_WS)\n",
    "\n",
    "#Saving metric values to a csv file\n",
    "np.savetxt('../../Data-Tables/substructure_metrics_base.csv', mean_metrics, fmt=\"%1.2f\", delimiter=\",\")"
   ]
  },
  {
   "cell_type": "markdown",
   "id": "d7bb5ace-9bfc-4e29-96ee-16ad46954642",
   "metadata": {},
   "source": [
    "### 3) Interpret Output from the Network ###"
   ]
  },
  {
   "cell_type": "code",
   "execution_count": null,
   "id": "213ccaa3-a373-439c-a4d3-17be2e2d3171",
   "metadata": {
    "scrolled": true
   },
   "outputs": [],
   "source": [
    "# Defining the learning parameters and their names\n",
    "learning_params_names = [r'$\\theta_\\mathrm{E}$',r'$\\gamma_1$',r'$\\gamma_2$',r'$\\gamma_\\mathrm{lens}$',r'$e_1$',\n",
    "\t\t\t\t\t\t\t\tr'$e_2$',r'$x_{lens}$',r'$y_{lens}$',r'$x_{src}$',r'$y_{src}$']\n",
    "\n",
    "#Generating corner plots for 10 lenses, this range can be user defined.\n",
    "for i in range(10):\n",
    "    posterior_samples_WoS = multivariate_normal(mean=y_pred_WoS[i],cov=np.linalg.inv(prec_pred_WoS[i])).rvs(size=int(5e3))\n",
    "    posterior_samples_WS = multivariate_normal(mean=y_pred_WS[i],cov=np.linalg.inv(prec_pred_WS[i])).rvs(size=int(5e3))\n",
    "\n",
    "    fig = corner.corner(posterior_samples_WoS,labels=np.asarray(learning_params_names),\n",
    "                        bins=20,\n",
    "                show_titles=False,plot_datapoints=False,label_kwargs=dict(fontsize=30),\n",
    "                levels=[0.68,0.95],color='slategray',fill_contours=True,smooth=1.0,\n",
    "                hist_kwargs={'density':True,'color':'slategray','lw':3},title_fmt='.2f',max_n_ticks=3,fig=None,\n",
    "                truths=y_test[i],\n",
    "                truth_color='black')\n",
    "    corner.corner(posterior_samples_WS,labels=np.asarray(learning_params_names),bins=20,\n",
    "                show_titles=False,plot_datapoints=False,label_kwargs=dict(fontsize=30),\n",
    "                levels=[0.68,0.95],color='goldenrod',fill_contours=True,smooth=1.0,\n",
    "                hist_kwargs={'density':True,'color':'goldenrod','lw':3},title_fmt='.2f',max_n_ticks=3,fig=fig)\n",
    "\n",
    "    color = ['slategray', 'goldenrod']\n",
    "    label = ['Without Substructure', 'With Substructure']\n",
    "    axes = np.array(fig.axes).reshape(param_num, param_num)\n",
    "    axes[0,param_num-2].legend(handles=[mlines.Line2D([], [], color=color[i], label=label[i]) for i in range(0,2)],frameon=False,\n",
    "                fontsize=30,loc=10)\n",
    "\n",
    "    axes[0,3].imshow(np.load(image_path_ws+im_ws[i]), norm=norm_ws)\n",
    "    axes[0,4].imshow(np.load(image_path_wos+im_wos[i]), norm=norm_wos)\n",
    "    #plt.show()\n",
    "    plt.savefig('../../Images/substructure_corner_plots/corner_plot_'+str(i)+'.png')"
   ]
  },
  {
   "cell_type": "code",
   "execution_count": null,
   "id": "ec926b19-b348-4837-a19f-43a9e5f087cf",
   "metadata": {},
   "outputs": [],
   "source": []
  }
 ],
 "metadata": {
  "kernelspec": {
   "display_name": "Python 3",
   "language": "python",
   "name": "python3"
  },
  "language_info": {
   "codemirror_mode": {
    "name": "ipython",
    "version": 3
   },
   "file_extension": ".py",
   "mimetype": "text/x-python",
   "name": "python",
   "nbconvert_exporter": "python",
   "pygments_lexer": "ipython3",
   "version": "3.12.1"
  }
 },
 "nbformat": 4,
 "nbformat_minor": 5
}
