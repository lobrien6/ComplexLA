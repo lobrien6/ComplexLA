{
 "cells": [
  {
   "cell_type": "markdown",
   "id": "bdd7d1b8-1079-484e-a8fd-6cd61b1f142e",
   "metadata": {},
   "source": [
    "### Adding Realistic Substructure to the Lens Mass Model ###\n",
    "This notebook adds more realistic perturbers in the form of sub-halos to the mass model of the lens.\n",
    "First we will import all of the relevant packages and scripts."
   ]
  },
  {
   "cell_type": "code",
   "execution_count": null,
   "id": "763fc38b-a915-444f-8141-78b9159cceb0",
   "metadata": {},
   "outputs": [],
   "source": [
    "#setting os path to import scripts\n",
    "import os\n",
    "import sys\n",
    "module_path = os.path.abspath(os.path.join('..'))\n",
    "if module_path not in sys.path:\n",
    "    sys.path.append(module_path)\n",
    "\n",
    "#importing packages\n",
    "from astropy.visualization import simple_norm\n",
    "import corner\n",
    "import matplotlib.pyplot as plt\n",
    "import matplotlib.colors as mcolors\n",
    "import matplotlib.lines as mlines\n",
    "import numpy as np\n",
    "from paltas.Configs.config_handler import ConfigHandler\n",
    "import pickle\n",
    "from scipy.stats import multivariate_normal\n",
    "from Scripts import lens_parameters, paltas_model, metrics, network_predictions"
   ]
  },
  {
   "cell_type": "code",
   "execution_count": null,
   "id": "aac6439b-affa-4026-a715-bb3dc5b798cb",
   "metadata": {},
   "outputs": [],
   "source": [
    "%load_ext autoreload\n",
    "%autoreload 2\n",
    "%matplotlib inline"
   ]
  },
  {
   "cell_type": "markdown",
   "id": "9b5a611a-c566-443b-a968-39b85007241f",
   "metadata": {},
   "source": [
    "### 1) As a preliminary test we will simulate a lens with and without substructure and plot the residual to see if any change in the image possitions has occured. ###"
   ]
  },
  {
   "cell_type": "markdown",
   "id": "1061936d-83d4-4c77-bdcf-abc32161edc9",
   "metadata": {},
   "source": [
    "### 1.1) Generate Sample Paramaters ###"
   ]
  },
  {
   "cell_type": "code",
   "execution_count": null,
   "id": "2618dda8-5480-4cb7-a15f-5455741d6af9",
   "metadata": {},
   "outputs": [],
   "source": [
    "f = open(module_path+'/../Data-Tables/substructure_parameters_catalog.csv', 'w+')\n",
    "f.close()\n",
    "\n",
    "#Define how many lenses will be generated in the sample\n",
    "sample_num = 1\n",
    "\n",
    "#Define how many parameters each lens has\n",
    "param_num = 10\n",
    "\n",
    "param_names = ['z_lens', 'gamma_md', 'theta_E_md', 'e1_md', 'e2_md', 'center_x_md', 'center_y_md', 'gamma1_md', 'gamma2_md', 'p_center_x', 'p_center_y', 'z_source', 'mag_app_source', 'R_sersic_source',\n",
    "               'n_sersic_source', 'e1_source', 'e2_source', 'center_x_source', 'center_y_source', 'z_lens_light', 'mag_app_light', 'R_sersic_light', 'n_sersic_light', 'e1_light', 'e2_light', \n",
    "               'z_point_source', 'x_point_source', 'y_point_source', 'mag_app_point_source']\n",
    "#Generate the parameters to be used in the sample\n",
    "param_dict = lens_parameters.perturberparameters(sample_num,module_path)\n",
    "print(param_dict)\n",
    "\n",
    "with open(module_path+'/../Data-Tables/substructure_parameters_catalog.csv', 'a') as f:\n",
    "    np.savetxt(f, param_names, fmt='%s', newline=',')\n",
    "    f.write('\\n')\n",
    "    np.savetxt(f, param_dict, fmt='%1.15f', delimiter=',')"
   ]
  },
  {
   "cell_type": "markdown",
   "id": "51da45a0-45b1-4843-a9f0-bfc3f8673506",
   "metadata": {},
   "source": [
    "### 1.2) Paltas Model Without Subscructure ### \n",
    "<br>\n",
    "First we will simiulate a lens without substructure."
   ]
  },
  {
   "cell_type": "code",
   "execution_count": null,
   "id": "cf82da82-b4f2-4a7b-919c-e3d7736d14d6",
   "metadata": {},
   "outputs": [],
   "source": [
    "WoS = ConfigHandler('../Configs/substructure_WoS_config.py')\n",
    "im_WoS,metadata = WoS.draw_image()\n",
    "#plt.axis('off')\n",
    "plt.imshow(im_WoS,norm=simple_norm(im_WoS,stretch='log',min_cut=1e-6))\n",
    "plt.savefig(module_path+'/../Images/Sub_WoS.png',bbox_inches='tight')"
   ]
  },
  {
   "cell_type": "markdown",
   "id": "5d577038-22f3-4ac3-a065-1d3d79695aeb",
   "metadata": {},
   "source": [
    "### 1.3) Paltas Model With Substructure ###\n",
    "<br>\n",
    "Next we will add substructure into the halo of the lens."
   ]
  },
  {
   "cell_type": "code",
   "execution_count": null,
   "id": "2545cffe-b5e7-4bd8-9966-0e958a6b9ce4",
   "metadata": {},
   "outputs": [],
   "source": [
    "WS = ConfigHandler('../Configs/substructure_WS_config.py')\n",
    "im_WS,metadata = WS.draw_image()\n",
    "#plt.axis('off')\n",
    "plt.imshow(im_WS,norm=simple_norm(im_WS,stretch='log',min_cut=1e-6))\n",
    "plt.savefig(module_path+'/../Images/Sub_WS.png',bbox_inches='tight')"
   ]
  },
  {
   "cell_type": "markdown",
   "id": "c232b0d9-ed8b-4064-90d3-abf03e98f4fa",
   "metadata": {},
   "source": [
    "### 1.4) Residual ###"
   ]
  },
  {
   "cell_type": "code",
   "execution_count": null,
   "id": "4170fe3f-ef3a-4a08-b6f1-9229b4534486",
   "metadata": {},
   "outputs": [],
   "source": [
    "im_ris = im_WoS-im_WS\n",
    "resid_norm = mcolors.TwoSlopeNorm(vmin=-0.025,vcenter=0,vmax=0.025)\n",
    "fig, ax = plt.subplots(layout='constrained')\n",
    "im2 = ax.matshow(im_ris,cmap='bwr',norm=resid_norm)\n",
    "plt.imshow(im_ris, cmap='bwr',norm=resid_norm)\n",
    "fig.colorbar(im2,ax=ax)\n",
    "#plt.imshow(im_ris, norm=simple_norm(im_ris,stretch='log',min_cut=1e-6))\n",
    "plt.savefig(module_path+'/../Images/Sub_ris.png',bbox_inches='tight')"
   ]
  },
  {
   "cell_type": "markdown",
   "id": "da5d7ffe-9a61-4bbf-8f8a-62671edd8d3a",
   "metadata": {},
   "source": [
    "### 2) Next we will simulate a test set of 100 lenses with substructure. ###"
   ]
  },
  {
   "cell_type": "markdown",
   "id": "210c0513-a785-4f43-97db-95617bc7ee33",
   "metadata": {},
   "source": [
    "### 2.1) Generate Sample Parameters ###"
   ]
  },
  {
   "cell_type": "code",
   "execution_count": null,
   "id": "5ae4a882-c793-4895-8d77-c9da89091556",
   "metadata": {},
   "outputs": [],
   "source": [
    "f = open(module_path+'/../Data-Tables/substructure_parameters_catalog.csv', 'w+')\n",
    "f.close()\n",
    "\n",
    "#Define how many lenses will be generated in the sample\n",
    "sample_num = 101\n",
    "\n",
    "#Define how many parameters each lens has\n",
    "param_num = 10\n",
    "\n",
    "param_names = ['z_lens', 'gamma_md', 'theta_E_md', 'e1_md', 'e2_md', 'center_x_md', 'center_y_md', 'gamma1_md', 'gamma2_md', 'p_center_x', 'p_center_y', 'z_source', 'mag_app_source', 'R_sersic_source',\n",
    "               'n_sersic_source', 'e1_source', 'e2_source', 'center_x_source', 'center_y_source', 'z_lens_light', 'mag_app_light', 'R_sersic_light', 'n_sersic_light', 'e1_light', 'e2_light', \n",
    "               'z_point_source', 'x_point_source', 'y_point_source', 'mag_app_point_source']\n",
    "#Generate the parameters to be used in the sample\n",
    "param_dict = lens_parameters.perturberparameters(sample_num,module_path)\n",
    "#print(param_dict)\n",
    "\n",
    "with open(module_path+'/../Data-Tables/substructure_parameters_catalog.csv', 'a') as f:\n",
    "    np.savetxt(f, param_names, fmt='%s', newline=',')\n",
    "    f.write('\\n')\n",
    "    np.savetxt(f, param_dict, fmt='%1.15f', delimiter=',')"
   ]
  },
  {
   "cell_type": "markdown",
   "id": "e9eed1a0-4855-4287-aac9-3f0552db48f2",
   "metadata": {},
   "source": [
    "### 2.2) Paltas Model ###"
   ]
  },
  {
   "cell_type": "code",
   "execution_count": null,
   "id": "85ec661e-57ab-4e9b-a0a3-98f5b6d49b3b",
   "metadata": {},
   "outputs": [],
   "source": [
    "path = module_path+'/'"
   ]
  },
  {
   "cell_type": "code",
   "execution_count": null,
   "id": "3ab80281-dac4-4d7f-8755-867adbbdb3d9",
   "metadata": {},
   "outputs": [],
   "source": [
    "im, metadata = paltas_model.PaltasModelWoS(path)\n",
    "plt.axis('off')\n",
    "plt.imshow(im,norm=simple_norm(im,stretch='log',min_cut=1e-6))"
   ]
  }
 ],
 "metadata": {
  "kernelspec": {
   "display_name": "Python 3 (ipykernel)",
   "language": "python",
   "name": "python3"
  },
  "language_info": {
   "codemirror_mode": {
    "name": "ipython",
    "version": 3
   },
   "file_extension": ".py",
   "mimetype": "text/x-python",
   "name": "python",
   "nbconvert_exporter": "python",
   "pygments_lexer": "ipython3",
   "version": "3.12.1"
  }
 },
 "nbformat": 4,
 "nbformat_minor": 5
}
