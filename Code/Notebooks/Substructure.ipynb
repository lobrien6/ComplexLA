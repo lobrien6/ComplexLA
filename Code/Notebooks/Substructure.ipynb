{
 "cells": [
  {
   "cell_type": "markdown",
   "id": "bdd7d1b8-1079-484e-a8fd-6cd61b1f142e",
   "metadata": {},
   "source": [
    "### Adding Realistic Substructure to the Lens Mass Model ###\n",
    "This notebook adds more realistic perturbers in the form of sub-halos to the mass model of the lens.\n",
    "First we will import all of the relevant packages and scripts."
   ]
  },
  {
   "cell_type": "code",
   "execution_count": null,
   "id": "763fc38b-a915-444f-8141-78b9159cceb0",
   "metadata": {},
   "outputs": [],
   "source": [
    "#setting os path to import scripts\n",
    "import os\n",
    "import sys\n",
    "module_path = os.path.abspath(os.path.join('..'))\n",
    "if module_path not in sys.path:\n",
    "    sys.path.append(module_path)\n",
    "\n",
    "#importing packages\n",
    "from astropy.visualization import AsinhStretch, ImageNormalize\n",
    "from astropy.visualization import simple_norm\n",
    "import corner\n",
    "import matplotlib.pyplot as plt\n",
    "import matplotlib.colors as mcolors\n",
    "import matplotlib.lines as mlines\n",
    "import numpy as np\n",
    "from paltas.Configs.config_handler_catalog import ConfigHandler\n",
    "import pickle\n",
    "import statistics\n",
    "from scipy.stats import multivariate_normal\n",
    "from Scripts import lens_parameters, paltas_model, metrics, network_predictions, fermat_potentials"
   ]
  },
  {
   "cell_type": "code",
   "execution_count": null,
   "id": "aac6439b-affa-4026-a715-bb3dc5b798cb",
   "metadata": {},
   "outputs": [],
   "source": [
    "%load_ext autoreload\n",
    "%autoreload 2\n",
    "%matplotlib inline"
   ]
  },
  {
   "cell_type": "markdown",
   "id": "da5d7ffe-9a61-4bbf-8f8a-62671edd8d3a",
   "metadata": {},
   "source": [
    "### 1) We will simulate a test set of 100 mock lenses with and withoutsubstructure. ###"
   ]
  },
  {
   "cell_type": "markdown",
   "id": "210c0513-a785-4f43-97db-95617bc7ee33",
   "metadata": {},
   "source": [
    "### 1.1) Generate Sample Parameters ###\n",
    "<br>\n",
    "This will generate the parameters needed for generating a sample of 100 mock lens with and without substructure."
   ]
  },
  {
   "cell_type": "code",
   "execution_count": null,
   "id": "5ae4a882-c793-4895-8d77-c9da89091556",
   "metadata": {},
   "outputs": [],
   "source": [
    "f = open(module_path+'/../Data-Tables/substructure_parameters_catalog.csv', 'w+')\n",
    "f.close()\n",
    "\n",
    "#Define how many lenses will be generated in the sample\n",
    "sample_num = 101\n",
    "\n",
    "#Define how many parameters each lens has\n",
    "param_num = 10\n",
    "\n",
    "param_names = ['index','z_lens', 'gamma_md', 'theta_E_md', 'e1_md', 'e2_md', 'center_x_md', 'center_y_md', 'gamma1_md', 'gamma2_md', 'p_center_x', 'p_center_y', 'z_source', 'mag_app_source', 'R_sersic_source',\n",
    "               'n_sersic_source', 'e1_source', 'e2_source', 'center_x_source', 'center_y_source', 'z_lens_light', 'mag_app_light', 'R_sersic_light', 'n_sersic_light', 'e1_light', 'e2_light', \n",
    "               'z_point_source', 'x_point_source', 'y_point_source', 'mag_app_point_source']\n",
    "#Generate the parameters to be used in the sample\n",
    "param_dict = lens_parameters.perturberparameters(sample_num,module_path)\n",
    "#print(param_dict)\n",
    "\n",
    "with open(module_path+'/../Data-Tables/substructure_parameters_catalog.csv', 'a') as f:\n",
    "    np.savetxt(f, param_names, fmt='%s', newline=',')\n",
    "    f.write('\\n')\n",
    "    np.savetxt(f, param_dict, fmt='%1.15f', delimiter=',')"
   ]
  },
  {
   "cell_type": "markdown",
   "id": "e9eed1a0-4855-4287-aac9-3f0552db48f2",
   "metadata": {},
   "source": [
    "### 1.2) Paltas Model without substructure ###"
   ]
  },
  {
   "cell_type": "code",
   "execution_count": null,
   "id": "85ec661e-57ab-4e9b-a0a3-98f5b6d49b3b",
   "metadata": {},
   "outputs": [],
   "source": [
    "path = module_path+'/'\n",
    "sample_num = 101"
   ]
  },
  {
   "cell_type": "code",
   "execution_count": null,
   "id": "3ab80281-dac4-4d7f-8755-867adbbdb3d9",
   "metadata": {
    "scrolled": true
   },
   "outputs": [],
   "source": [
    "# Add timing\n",
    "import time\n",
    "tick = time.time()\n",
    "\n",
    "im_WoS, metadata = paltas_model.PaltasModelWoS(path,sample_num)\n",
    "im_WoS = np.asarray(im_WoS)\n",
    "\n",
    "dt = time.time() - tick\n",
    "print(sample_num,\" lenses took \",dt,\" seconds to generate.\")"
   ]
  },
  {
   "cell_type": "code",
   "execution_count": null,
   "id": "b02a08e0-21e4-4d73-bde4-418441ab70ab",
   "metadata": {},
   "outputs": [],
   "source": [
    "fig,axs = plt.subplots(10,10,figsize=(10,10))\n",
    "norm_WoS = ImageNormalize(im_WoS[3],stretch=AsinhStretch())\n",
    "\n",
    "n_cols = 10\n",
    "for i in range(0,100):\n",
    "    axs[i//n_cols,i%n_cols].imshow(im_WoS[i], norm=norm_WoS)\n",
    "    axs[i//n_cols,i%n_cols].set_xticks([])\n",
    "    axs[i//n_cols,i%n_cols].set_yticks([])\n",
    "\n",
    "\n",
    "plt.show()\n",
    "fig.savefig(module_path+'/../Images/Sub_WoS_100.png',bbox_inches='tight')"
   ]
  },
  {
   "cell_type": "markdown",
   "id": "fe9efb82-9e70-4f9c-9a94-ab1c890324a2",
   "metadata": {},
   "source": [
    "### 1.3) Paltas model with substructure ###"
   ]
  },
  {
   "cell_type": "code",
   "execution_count": null,
   "id": "21f86672-3c8e-49be-8d10-47238552a655",
   "metadata": {
    "scrolled": true
   },
   "outputs": [],
   "source": [
    "im_WS, metadata = paltas_model.PaltasModelWS(path,sample_num)\n",
    "im_WS = np.asarray(im_WS)\n",
    "#plt.axis('off')\n",
    "#print(np.shape(im_WS))\n",
    "#plt.imshow(im_WS,norm=simple_norm(im,stretch='log',min_cut=1e-6))"
   ]
  },
  {
   "cell_type": "code",
   "execution_count": null,
   "id": "4771691f-8811-4dff-8afa-7e3562c43975",
   "metadata": {},
   "outputs": [],
   "source": [
    "fig,axs = plt.subplots(10,10,figsize=(10,10))\n",
    "norm_WS = ImageNormalize(im_WS[3],stretch=AsinhStretch())\n",
    "\n",
    "n_cols = 10\n",
    "for i in range(0,100):\n",
    "    axs[i//n_cols,i%n_cols].imshow(im_WS[i], norm=norm_WS)\n",
    "    axs[i//n_cols,i%n_cols].set_xticks([])\n",
    "    axs[i//n_cols,i%n_cols].set_yticks([])\n",
    "\n",
    "plt.show()\n",
    "fig.savefig(module_path+'/../Images/Sub_WS_100.png',bbox_inches='tight')"
   ]
  },
  {
   "cell_type": "markdown",
   "id": "91087c93-d24d-45e4-ab82-154a8e401920",
   "metadata": {},
   "source": [
    "### 1.4) Residuals ###\n",
    "<br>\n",
    "Now we will plot the residuals between the lenses with and without substructure."
   ]
  },
  {
   "cell_type": "code",
   "execution_count": null,
   "id": "ffd1a28a-0d4d-4ed7-a2ce-396e27bff7f5",
   "metadata": {},
   "outputs": [],
   "source": [
    "resid_norm =mcolors.TwoSlopeNorm(vmin=-0.025,vcenter=0,vmax=0.025)\n",
    "fig,axs = plt.subplots(10,10,figsize=(10,10))\n",
    "\n",
    "n_cols = 10\n",
    "for i in range(0,100):\n",
    "    imris = axs[i//n_cols,i%n_cols].imshow(im_WoS[i]-im_WS[i], norm=resid_norm,cmap='bwr')\n",
    "    axs[i//n_cols,i%n_cols].set_xticks([])\n",
    "    axs[i//n_cols,i%n_cols].set_yticks([])\n",
    "\n",
    "fig.colorbar(imris, ax=axs)\n",
    "plt.show()\n",
    "fig.savefig(module_path+'/../Images/Sub_Res_100.png',bbox_inches='tight')"
   ]
  },
  {
   "cell_type": "markdown",
   "id": "31141c47-5712-4585-911b-72a6f2ebd3e5",
   "metadata": {},
   "source": [
    "### 2) Predictions and Metrics ###\n",
    "<br>\n",
    "Here we will generate images for the network to make predictions and calculuate usefull metrics to get a better sense of how well the prediction posteriors match the known parameters."
   ]
  },
  {
   "cell_type": "markdown",
   "id": "e0b195d6-c10b-4bb2-a4e3-df5139456a80",
   "metadata": {},
   "source": [
    "### 2.1) Generate Images for the Network ###"
   ]
  },
  {
   "cell_type": "code",
   "execution_count": null,
   "id": "a177763c-6cb6-4c90-8c9c-1de671a22ad6",
   "metadata": {},
   "outputs": [],
   "source": [
    "sample_num = 101\n",
    "path = module_path+'/'\n",
    "config_path = 'Configs'\n",
    "image_path = 'Images_for_Network'\n",
    "print(path+image_path)"
   ]
  },
  {
   "cell_type": "code",
   "execution_count": null,
   "id": "b9ff7044-2f12-417a-a2f7-a028359a0315",
   "metadata": {},
   "outputs": [],
   "source": [
    "y_test, y_pred_WoS, std_pred_WoS, prec_pred_WoS, y_pred_WS, std_pred_WS, prec_pred_WS = network_predictions.Predictions_Substructure(sample_num, path, config_path, image_path)"
   ]
  },
  {
   "cell_type": "markdown",
   "id": "14488fde-1237-4fec-a80a-5e34b4b28dda",
   "metadata": {},
   "source": [
    "### 3) Calculate Metrics ###"
   ]
  },
  {
   "cell_type": "code",
   "execution_count": null,
   "id": "60586b3a-316a-4157-8776-e15d44c1c2ca",
   "metadata": {},
   "outputs": [],
   "source": [
    "path0 = os.path.abspath(os.path.join(path+'..'))\n",
    "sample_num = 101\n",
    "param_num = 10\n",
    "mean_metrics = metrics.PerturberSampleTrunc_Substructure(sample_num, param_num, y_test, y_pred_WoS, y_pred_WS, std_pred_WoS, std_pred_WS)\n",
    "print(mean_metrics)\n",
    "print(mean_metrics)\n",
    "np.savetxt(path0+'/Data-Tables/substructure_metrics_base.csv', mean_metrics, fmt=\"%1.2f\", delimiter=\",\")"
   ]
  },
  {
   "cell_type": "markdown",
   "id": "d7bb5ace-9bfc-4e29-96ee-16ad46954642",
   "metadata": {},
   "source": [
    "### 4) Interpret Output from the Network ###"
   ]
  },
  {
   "cell_type": "code",
   "execution_count": null,
   "id": "f9503481-58f5-4ec8-a2c9-8eea35551bae",
   "metadata": {},
   "outputs": [],
   "source": [
    "learning_params_names = [r'$\\theta_\\mathrm{E}$',r'$\\gamma_1$',r'$\\gamma_2$',r'$\\gamma_\\mathrm{lens}$',r'$e_1$',\n",
    "\t\t\t\t\t\t\t\tr'$e_2$',r'$x_{lens}$',r'$y_{lens}$',r'$x_{src}$',r'$y_{src}$']"
   ]
  },
  {
   "cell_type": "code",
   "execution_count": null,
   "id": "213ccaa3-a373-439c-a4d3-17be2e2d3171",
   "metadata": {
    "scrolled": true
   },
   "outputs": [],
   "source": [
    "for i in range(sample_num-1):\n",
    "    posterior_samples_WoS = multivariate_normal(mean=y_pred_WoS[i],cov=np.linalg.inv(prec_pred_WoS[i])).rvs(size=int(5e3))\n",
    "    posterior_samples_WS = multivariate_normal(mean=y_pred_WS[i],cov=np.linalg.inv(prec_pred_WS[i])).rvs(size=int(5e3))\n",
    "\n",
    "    fig = corner.corner(posterior_samples_WoS,labels=np.asarray(learning_params_names),bins=20,\n",
    "                show_titles=False,plot_datapoints=False,label_kwargs=dict(fontsize=30),\n",
    "                levels=[0.68,0.95],color='slategray',fill_contours=True,smooth=1.0,\n",
    "                hist_kwargs={'density':True,'color':'slategray','lw':3},title_fmt='.2f',max_n_ticks=3,fig=None,\n",
    "                truths=y_test[i],\n",
    "                truth_color='black')\n",
    "    corner.corner(posterior_samples_WS,labels=np.asarray(learning_params_names),bins=20,\n",
    "                show_titles=False,plot_datapoints=False,label_kwargs=dict(fontsize=30),\n",
    "                levels=[0.68,0.95],color='goldenrod',fill_contours=True,smooth=1.0,\n",
    "                hist_kwargs={'density':True,'color':'goldenrod','lw':3},title_fmt='.2f',max_n_ticks=3,fig=fig)\n",
    "\n",
    "    color = ['slategray', 'goldenrod']\n",
    "    label = ['Without Substructure', 'With Substructure']\n",
    "    axes = np.array(fig.axes).reshape(param_num, param_num)\n",
    "    axes[0,param_num-2].legend(handles=[mlines.Line2D([], [], color=color[i], label=label[i]) for i in range(0,2)],frameon=False,\n",
    "                fontsize=30,loc=10)\n",
    "\n",
    "    axes[0,3].imshow(im_WoS[i], norm=norm_WoS)\n",
    "    axes[0,4].imshow(im_WS[i], norm=norm_WS)\n",
    "    #plt.show()\n",
    "    plt.savefig(path0+'/Images/substructure_corner_plots/corner_plot_'+str(i)+'.png')"
   ]
  },
  {
   "cell_type": "markdown",
   "id": "78ed0e5b-3623-4657-a205-7e9ed126ce37",
   "metadata": {},
   "source": [
    "### 5) Fermat Potential Differences ###"
   ]
  },
  {
   "cell_type": "markdown",
   "id": "7f5d306d-61d8-4aa4-aa62-9dbc45572857",
   "metadata": {},
   "source": [
    "### 5.1) Plotting Histograms ###"
   ]
  },
  {
   "cell_type": "code",
   "execution_count": null,
   "id": "1936b175-03c0-4206-b192-6228c20290b8",
   "metadata": {},
   "outputs": [],
   "source": [
    "#Finding image positions\n",
    "x_im_test = []\n",
    "y_im_test = []\n",
    "\n",
    "for i in range(sample_num-1):\n",
    "    x_im_test_val, y_im_test_val = fermat_potentials.fermat.image_positions_from_y_pred(y_test[i])\n",
    "    x_im_test.append(x_im_test_val)\n",
    "    y_im_test.append(y_im_test_val)"
   ]
  },
  {
   "cell_type": "code",
   "execution_count": null,
   "id": "7bfbce26-8a76-46d6-9865-94f50a880c57",
   "metadata": {},
   "outputs": [],
   "source": [
    "x_im_pred_WoS = []\n",
    "y_im_pred_WoS = []\n",
    "\n",
    "for i in range(sample_num-1):\n",
    "    x_im_pred_val, y_im_pred_val = fermat_potentials.fermat.image_positions_from_y_pred(y_pred_WoS[i])\n",
    "    x_im_pred_WoS.append(x_im_pred_val)\n",
    "    y_im_pred_WoS.append(y_im_pred_val)"
   ]
  },
  {
   "cell_type": "code",
   "execution_count": null,
   "id": "28ff2084-650e-481b-8bb1-7bd82a495e9b",
   "metadata": {},
   "outputs": [],
   "source": [
    "x_im_pred_WS = []\n",
    "y_im_pred_WS = []\n",
    "\n",
    "for i in range(sample_num-1):\n",
    "    x_im_pred_val, y_im_pred_val = fermat_potentials.fermat.image_positions_from_y_pred(y_pred_WS[i])\n",
    "    x_im_pred_WS.append(x_im_pred_val)\n",
    "    y_im_pred_WS.append(y_im_pred_val)"
   ]
  },
  {
   "cell_type": "code",
   "execution_count": null,
   "id": "9d551e29-c7e6-4665-b7e6-f4f431132a03",
   "metadata": {},
   "outputs": [],
   "source": [
    "params_dist_WoS = []\n",
    "for i in range(sample_num-1):\n",
    "    covariance_matrix = np.diag(std_pred_WoS[i]**2)\n",
    "    params_dist_val = multivariate_normal.rvs(mean=y_pred_WoS[i],cov=covariance_matrix,size=1000)\n",
    "    #plt.hist(params_dist[:,3])\n",
    "    params_dist_WoS.append(params_dist_val)"
   ]
  },
  {
   "cell_type": "code",
   "execution_count": null,
   "id": "018a4be9-3613-4165-834b-29507387eadf",
   "metadata": {},
   "outputs": [],
   "source": [
    "params_dist_WS = []\n",
    "for i in range(sample_num-1):\n",
    "    covariance_matrix = np.diag(std_pred_WS[i]**2)\n",
    "    params_dist_val = multivariate_normal.rvs(mean=y_pred_WS[i],cov=covariance_matrix,size=1000)\n",
    "    #plt.hist(params_dist[:,3])\n",
    "    params_dist_WS.append(params_dist_val)"
   ]
  },
  {
   "cell_type": "code",
   "execution_count": null,
   "id": "35c74299-f9b9-4e2e-b7ec-50ad2250d25a",
   "metadata": {
    "scrolled": true
   },
   "outputs": [],
   "source": [
    "# Plotting histograms\n",
    "##Subtract WS image positions from WS truth value and add new truth value line\n",
    "n = 0\n",
    "color = ['slategray', 'goldenrod']\n",
    "label = ['Without Substructure', 'With Substructure']\n",
    "\n",
    "for i in range(sample_num-1):\n",
    "    truth_fermat_potentials = (fermat_potentials.fermat.fermat_potential_at_image_positions(y_test[i], x_im_test[i], y_im_test[i]))\n",
    "    \n",
    "    #Find location of largest time delay and plot one set of hitograms for each quad\n",
    "    if truth_fermat_potentials.shape == (4,):\n",
    "        shape = 3\n",
    "        fig,axs = plt.subplots(1,figsize=(12,4))\n",
    "        im_labels = ['AB','AC','AD']\n",
    "        sample_WoS_arr,sample_WS_arr,truth_arr,abs_max_loc = fermat_potentials.fermat.largest_truth_value_substructure(\n",
    "        shape,params_dist_WoS[i],params_dist_WS[i],y_test[i],x_im_test[i],y_im_test[i],truth_fermat_potentials)\n",
    "        counts,bins,_ = axs.hist(sample_WoS_arr[abs_max_loc],bins=20, histtype=u'step', color='slategray')\n",
    "        counts,bins,_ = axs.hist(sample_WS_arr[abs_max_loc],bins=20, histtype=u'step', color='goldenrod')\n",
    "        axs.vlines(truth_arr[abs_max_loc],0,np.max(counts),zorder=200,color='red')\n",
    "        axs.set_title('$\\Delta\\phi_{'+im_labels[abs_max_loc]+'}$')\n",
    "        axs.legend(handles=[mlines.Line2D([], [], color=color[i], label=label[i]) for i in range(0,2)],frameon=False, fontsize=5,loc='upper left')\n",
    "\n",
    "    elif truth_fermat_potentials.shape == (3,):\n",
    "        shape = 2\n",
    "        fig,axs = plt.subplots(1,figsize=(12,4))\n",
    "        im_labels = ['AB','AC']\n",
    "        sample_WoS_arr,sample_WS_arr,truth_arr,abs_max_loc = fermat_potentials.fermat.largest_truth_value_substructure(\n",
    "            shape,params_dist_WoS[i],params_dist_WS[i],y_test[i],x_im_test[i],y_im_test[i],truth_fermat_potentials)\n",
    "        counts,bins,_ = axs.hist(sample_WoS_arr[abs_max_loc],bins=20, histtype=u'step', color='slategray')\n",
    "        counts,bins,_ = axs.hist(sample_WS_arr[abs_max_loc],bins=20, histtype=u'step', color='goldenrod')\n",
    "        axs.vlines(truth_arr[abs_max_loc],0,np.max(counts),zorder=200,color='red')\n",
    "        axs.set_title('$\\Delta\\phi_{'+im_labels[abs_max_loc]+'}$')\n",
    "        axs.legend(handles=[mlines.Line2D([], [], color=color[i], label=label[i]) for i in range(0,2)],frameon=False, fontsize=5,loc='upper left')\n",
    "\n",
    "    elif truth_fermat_potentials.shape == (2,):\n",
    "        fig,axs = plt.subplots(1,figsize=(12,4))\n",
    "        sampled_fermat_potentials_WoS,sampled_fermat_potentials_WS = fermat_potentials.fermat.fermat_potential_arrays_substructure(\n",
    "            params_dist_WoS[i],params_dist_WS[i],y_test[i],x_im_test[i],y_im_test[i])\n",
    "        counts,bins,_ = axs.hist(sampled_fermat_potentials_WoS[:,0]-sampled_fermat_potentials_WoS[:,1],bins=20, histtype=u'step',\n",
    "                                        color='slategray')\n",
    "        counts,bins,_ = axs.hist(sampled_fermat_potentials_WS[:,0]-sampled_fermat_potentials_WS[:,1],bins=20, histtype=u'step',\n",
    "                                        color='goldenrod')\n",
    "        axs.vlines(truth_fermat_potentials[0]-truth_fermat_potentials[1],0,np.max(counts),zorder=200,color='red')\n",
    "        axs.set_title('$\\Delta\\phi_{AB}$')\n",
    "        axs.legend(handles=[mlines.Line2D([], [], color=color[i], label=label[i]) for i in range(0,2)],frameon=False,\n",
    "                fontsize=5,loc='upper left')\n",
    "\n",
    "    else:\n",
    "        print('Index:'+str(i))\n",
    "        print('Sampled fermat potentials WoS size: '+str(sampled_fermat_potentials_WoS[i].shape))\n",
    "        print('Sampled fermat potentials WS size: '+str(sampled_fermat_potentials_WS[i].shape))\n",
    "        print('Truth fermat potentials size: '+str(truth_fermat_potentials.shape))\n",
    "        n = n+1\n",
    "\n",
    "    axes[0,3].imshow(im_WoS[i], norm=norm_WoS)\n",
    "    axes[0,4].imshow(im_WS[i], norm=norm_WS)\n",
    "\n",
    "print('Missing fermat potential differences: '+str(n))"
   ]
  },
  {
   "cell_type": "markdown",
   "id": "ee6f2213-6f96-4183-be5b-aa9a68e3dc38",
   "metadata": {},
   "source": [
    "### 5.2) Calculate Metrics ###"
   ]
  },
  {
   "cell_type": "code",
   "execution_count": null,
   "id": "cb801ca4-950e-4e62-b077-ee5e1e45d95a",
   "metadata": {},
   "outputs": [],
   "source": [
    "#Accurace and Bias\n",
    "acc_arr_WoS = []\n",
    "acc_arr_WS = []\n",
    "\n",
    "bias_arr_WoS = []\n",
    "bias_arr_WS = []\n",
    "\n",
    "for i in range(sample_num-1):\n",
    "    truth_fermat_potentials = (fermat_potentials.fermat.fermat_potential_at_image_positions(y_test[i], x_im_test[i], y_im_test[i]))\n",
    "\n",
    "    if truth_fermat_potentials.shape == (4,):\n",
    "        shape = 3\n",
    "        sample_WoS_arr,sample_WS_arr,truth_arr,abs_max_loc = fermat_potentials.fermat.largest_truth_value_substructure(\n",
    "            shape,params_dist_WoS[i],params_dist_WS[i],y_test[i],x_im_test[i],y_im_test[i],truth_fermat_potentials)\n",
    "        median_WoS = statistics.median(sample_WoS_arr[abs_max_loc])\n",
    "        median_WS = statistics.median(sample_WS_arr[abs_max_loc])\n",
    "        truth = truth_arr[abs_max_loc]\n",
    "        bias_arr_WoS.append(median_WoS-truth)\n",
    "        bias_arr_WS.append(median_WS-truth)\n",
    "        acc_arr_WoS.append(np.abs(median_WoS-truth))\n",
    "        acc_arr_WS.append(np.abs(median_WS-truth))\n",
    "\n",
    "    elif truth_fermat_potentials.shape == (3,):\n",
    "        shape = 2\n",
    "        sample_WoS_arr,sample_WS_arr,truth_arr,abs_max_loc = fermat_potentials.fermat.largest_truth_value_substructure(\n",
    "            shape,params_dist_WoS[i],params_dist_WS[i],y_test[i],x_im_test[i],y_im_test[i],truth_fermat_potentials)\n",
    "        median_WoS = statistics.median(sample_WoS_arr[abs_max_loc])\n",
    "        median_WS = statistics.median(sample_WS_arr[abs_max_loc])\n",
    "        truth = truth_arr[abs_max_loc]\n",
    "        bias_arr_WoS.append(median_WoS-truth)\n",
    "        bias_arr_WS.append(median_WS-truth)\n",
    "        acc_arr_WoS.append(np.abs(median_WoS-truth))\n",
    "        acc_arr_WS.append(np.abs(median_WS-truth))\n",
    "\n",
    "    elif truth_fermat_potentials.shape == (2,):\n",
    "        sampled_fermat_potentials_WoS,sampled_fermat_potentials_WS = fermat_potentials.fermat.fermat_potential_arrays_substructure(\n",
    "            params_dist_WoS[i],params_dist_WS[i],y_test[i],x_im_test[i],y_im_test[i])\n",
    "        sample_WoS = sampled_fermat_potentials_WoS[:,0]-sampled_fermat_potentials_WoS[:,1]\n",
    "        sample_WS = sampled_fermat_potentials_WS[:,0]-sampled_fermat_potentials_WS[:,1]\n",
    "        median_WoS = statistics.median(sample_WoS)\n",
    "        median_WS = statistics.median(sample_WS)\n",
    "        truth = truth_fermat_potentials[0]-truth_fermat_potentials[1]\n",
    "        bias_arr_WoS.append(median_WoS-truth)\n",
    "        bias_arr_WS.append(median_WS-truth)\n",
    "        acc_arr_WoS.append(np.abs(median_WoS-truth))\n",
    "        acc_arr_WS.append(np.abs(median_WS-truth))\n",
    "\n",
    "bias_metric_WoS = statistics.mean(bias_arr_WoS)\n",
    "bias_metric_WS = statistics.mean(bias_arr_WS)\n",
    "acc_metric_WoS = statistics.mean(acc_arr_WoS)\n",
    "acc_metric_WS = statistics.mean(acc_arr_WS)\n",
    "print('Accuracy of WoS: '+str(acc_metric_WoS))\n",
    "print('Accuracy of WS: '+str(acc_metric_WS))\n",
    "print('Bias of WoS: '+str(bias_metric_WoS))\n",
    "print('Bias of WS: '+str(bias_metric_WS))"
   ]
  },
  {
   "cell_type": "code",
   "execution_count": null,
   "id": "a695246c-10cf-40fb-af71-05ab2e859175",
   "metadata": {},
   "outputs": [],
   "source": [
    "#Precision\n",
    "\n",
    "prec_arr_WoS = []\n",
    "prec_arr_WS = []\n",
    "\n",
    "for i in range(sample_num-1):\n",
    "    truth_fermat_potentials = (fermat_potentials.fermat.fermat_potential_at_image_positions(y_test[i], x_im_test[i], y_im_test[i]))\n",
    "\n",
    "    if truth_fermat_potentials.shape == (4,):\n",
    "        shape = 3\n",
    "        sample_WoS_arr,sample_WS_arr,truth_arr,abs_max_loc = fermat_potentials.fermat.largest_truth_value_substructure(\n",
    "            shape,params_dist_WoS[i],params_dist_WS[i],y_test[i],x_im_test[i],y_im_test[i],truth_fermat_potentials)\n",
    "        std_WoS = np.std(sample_WoS_arr[abs_max_loc], ddof=1)\n",
    "        std_WS = np.std(sample_WS_arr[abs_max_loc], ddof=1)\n",
    "\n",
    "        prec_arr_WoS.append(std_WoS)\n",
    "        prec_arr_WS.append(std_WS)\n",
    "\n",
    "    elif truth_fermat_potentials.shape == (3,):\n",
    "        shape = 2\n",
    "        sample_WoS_arr,sample_WS_arr,truth_arr,abs_max_loc = fermat_potentials.fermat.largest_truth_value_substructure(\n",
    "            shape,params_dist_WoS[i],params_dist_WS[i],y_test[i],x_im_test[i],y_im_test[i],truth_fermat_potentials)\n",
    "        std_WoS = np.std(sample_WoS_arr[abs_max_loc], ddof=1)\n",
    "        std_WS = np.std(sample_WS_arr[abs_max_loc], ddof=1)\n",
    "\n",
    "        prec_arr_WoS.append(std_WoS)\n",
    "        prec_arr_WS.append(std_WS)\n",
    "\n",
    "    elif truth_fermat_potentials.shape == (2,):\n",
    "        sampled_fermat_potentials_wop,sampled_fermat_potentials_wp = fermat_potentials.fermat.fermat_potential_arrays_substructure(\n",
    "            params_dist_WoS[i],params_dist_WS[i],y_test[i],x_im_test[i],y_im_test[i])\n",
    "        sample_WoS = sampled_fermat_potentials_WoS[:,0]-sampled_fermat_potentials_WoS[:,1]\n",
    "        sample_WS = sampled_fermat_potentials_WS[:,0]-sampled_fermat_potentials_WS[:,1]\n",
    "        std_WoS = np.std(sample_WoS, ddof=1)\n",
    "        std_WS = np.std(sample_WS, ddof=1)\n",
    "\n",
    "        prec_arr_WoS.append(std_WoS)\n",
    "        prec_arr_WS.append(std_WS)\n",
    "\n",
    "prec_metric_WoS = statistics.mean(prec_arr_WoS)\n",
    "prec_metric_WS = statistics.mean(prec_arr_WS)\n",
    "print('Precision of WoS: '+str(prec_metric_WoS))\n",
    "print('Precision of WS: '+str(prec_metric_WS))"
   ]
  },
  {
   "cell_type": "code",
   "execution_count": null,
   "id": "59266674-a145-4c48-9103-b8ad34254c23",
   "metadata": {},
   "outputs": [],
   "source": [
    "bias_arr_WoS = np.array(bias_arr_WoS)\n",
    "bias_arr_WS = np.array(bias_arr_WS)\n",
    "prec_arr_WoS = np.array(prec_arr_WoS)\n",
    "prec_arr_WS = np.array(prec_arr_WS)\n",
    "\n",
    "n_WoS = bias_arr_WoS/prec_arr_WoS\n",
    "n_WS = bias_arr_WS/prec_arr_WS\n",
    "\n",
    "n_WoS_mean = np.mean(n_WoS)\n",
    "n_WS_mean = np.mean(n_WS)\n",
    "\n",
    "_,bin_edges = np.histogram(n_WS,12)\n",
    "\n",
    "plt.hist(n_WoS,bins=bin_edges, histtype=u'step', density=True, label=\"WoS: $<n_k>$=%.2f\"%(n_WoS_mean))\n",
    "plt.hist(n_WS,bins=bin_edges, histtype=u'step', density=True, label=\"WS: $<n_k>$=%.2f\"%(n_WS_mean))\n",
    "plt.vlines(0,0,0.5,color='black')\n",
    "plt.xlabel(r'$n_k=\\frac{\\epsilon_k}{\\sigma_k}$',fontsize=15)\n",
    "plt.ylabel('Probability Density')\n",
    "plt.legend()\n",
    "#plt.show()\n",
    "plt.savefig('/Users/Logan/Documents/SJSU/HEP_Research/ComplexLA/Images/sigma_standard_error_substructure.png',bbox_inches='tight')"
   ]
  },
  {
   "cell_type": "code",
   "execution_count": null,
   "id": "ec926b19-b348-4837-a19f-43a9e5f087cf",
   "metadata": {},
   "outputs": [],
   "source": []
  }
 ],
 "metadata": {
  "kernelspec": {
   "display_name": "Python 3 (ipykernel)",
   "language": "python",
   "name": "python3"
  },
  "language_info": {
   "codemirror_mode": {
    "name": "ipython",
    "version": 3
   },
   "file_extension": ".py",
   "mimetype": "text/x-python",
   "name": "python",
   "nbconvert_exporter": "python",
   "pygments_lexer": "ipython3",
   "version": "3.12.1"
  }
 },
 "nbformat": 4,
 "nbformat_minor": 5
}
