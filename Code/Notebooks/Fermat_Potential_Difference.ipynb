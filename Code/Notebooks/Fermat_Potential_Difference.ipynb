{
 "cells": [
  {
   "cell_type": "code",
   "execution_count": null,
   "id": "513b233e-7b3e-4718-80f8-c55caede3754",
   "metadata": {},
   "outputs": [],
   "source": [
    "#setting os path to import scripts\n",
    "import os\n",
    "import sys\n",
    "module_path = os.path.abspath(os.path.join('..'))\n",
    "if module_path not in sys.path:\n",
    "    sys.path.append(module_path)"
   ]
  },
  {
   "cell_type": "code",
   "execution_count": null,
   "id": "59962bda-e65a-47c5-8f7d-21fa36ed3194",
   "metadata": {},
   "outputs": [],
   "source": [
    "# imports\n",
    "from deep_lens_modeling.network_predictions import generate_sequential_predictions\n",
    "from scipy.stats import multivariate_normal\n",
    "from Scripts import network_predictions, fermat_potentials\n",
    "import matplotlib.pyplot as plt\n",
    "import numpy as np\n",
    "import matplotlib.lines as mlines\n",
    "\n",
    "# lenstronomy stuff\n",
    "from lenstronomy.LensModel.lens_model import LensModel\n",
    "from lenstronomy.PointSource.point_source import PointSource\n",
    "from lenstronomy.Plots import lens_plot"
   ]
  },
  {
   "cell_type": "code",
   "execution_count": null,
   "id": "84264bf1-d115-4c63-bb8b-9732bee1be8f",
   "metadata": {},
   "outputs": [],
   "source": [
    "#autoreload imports\n",
    "%load_ext autoreload\n",
    "%autoreload 2"
   ]
  },
  {
   "cell_type": "code",
   "execution_count": null,
   "id": "113aafd7-f5ec-4dd7-9cf0-0e54144a0c01",
   "metadata": {},
   "outputs": [],
   "source": [
    "sample_num= 101\n",
    "path = module_path+'/'\n",
    "config_path = 'Configs'\n",
    "image_path = 'Images_for_Network'\n",
    "y_test, y_pred_wop, std_pred_wop, prec_pred_wop, y_pred_wp, std_pred_wp, prec_pred_wp, y_pred_wpl, std_pred_wpl, prec_pred_wpl = network_predictions.Predictions(sample_num, path, config_path, image_path)"
   ]
  },
  {
   "cell_type": "code",
   "execution_count": null,
   "id": "8c2408e6-7867-458f-b481-843369662352",
   "metadata": {},
   "outputs": [],
   "source": [
    "# Declare prediction array for all three cases\n",
    "#pred_arr = [y_pred_wop, y_pred_wp, y_pred_wpl]"
   ]
  },
  {
   "cell_type": "code",
   "execution_count": null,
   "id": "b65900fb-2969-4b11-93d0-05a8ec05965c",
   "metadata": {},
   "outputs": [],
   "source": [
    "#Finding image positions\n",
    "x_im_test = []\n",
    "y_im_test = []\n",
    "\n",
    "for i in range(sample_num-1):\n",
    "    x_im_test_val, y_im_test_val = fermat_potentials.image_positions_from_y_pred(y_test[i])\n",
    "    x_im_test.append(x_im_test_val)\n",
    "    y_im_test.append(y_im_test_val)"
   ]
  },
  {
   "cell_type": "code",
   "execution_count": null,
   "id": "dc2527a3-a3ef-40b6-b4b4-bc857df1aa6f",
   "metadata": {},
   "outputs": [],
   "source": [
    "x_im_pred_wop = []\n",
    "y_im_pred_wop = []\n",
    "\n",
    "for i in range(sample_num-1):\n",
    "    x_im_pred_val, y_im_pred_val = fermat_potentials.image_positions_from_y_pred(y_pred_wop[i])\n",
    "    x_im_pred_wop.append(x_im_pred_val)\n",
    "    y_im_pred_wop.append(y_im_pred_val)"
   ]
  },
  {
   "cell_type": "code",
   "execution_count": null,
   "id": "934d27fa-0f07-4595-804f-0253e8bc9971",
   "metadata": {},
   "outputs": [],
   "source": [
    "x_im_pred_wp = []\n",
    "y_im_pred_wp = []\n",
    "\n",
    "for i in range(sample_num-1):\n",
    "    x_im_pred_val, y_im_pred_val = fermat_potentials.image_positions_from_y_pred(y_pred_wp[i])\n",
    "    x_im_pred_wp.append(x_im_pred_val)\n",
    "    y_im_pred_wp.append(y_im_pred_val)"
   ]
  },
  {
   "cell_type": "code",
   "execution_count": null,
   "id": "c0a315ed-381b-4090-998d-706da074d4fc",
   "metadata": {},
   "outputs": [],
   "source": [
    "x_im_pred_wpl = []\n",
    "y_im_pred_wpl = []\n",
    "\n",
    "for i in range(sample_num-1):\n",
    "    x_im_pred_val, y_im_pred_val = fermat_potentials.image_positions_from_y_pred(y_pred_wpl[i])\n",
    "    x_im_pred_wpl.append(x_im_pred_val)\n",
    "    y_im_pred_wpl.append(y_im_pred_val)"
   ]
  },
  {
   "cell_type": "code",
   "execution_count": null,
   "id": "51f8c575-d819-4e7d-9905-fc6b4a138978",
   "metadata": {},
   "outputs": [],
   "source": [
    "#print(x_im_pred_wp[2])\n",
    "#print(x_im_test[2])"
   ]
  },
  {
   "cell_type": "code",
   "execution_count": null,
   "id": "a799c360-b008-42e3-ad13-48e372e910aa",
   "metadata": {},
   "outputs": [],
   "source": [
    "#std_pred_wop[0]"
   ]
  },
  {
   "cell_type": "code",
   "execution_count": null,
   "id": "8b64d51e-18d0-48b9-b8b2-8d36f97ab672",
   "metadata": {},
   "outputs": [],
   "source": [
    "params_dist_wop = []\n",
    "for i in range(sample_num-1):\n",
    "    covariance_matrix = np.diag(std_pred_wop[i]**2)\n",
    "    params_dist_val = multivariate_normal.rvs(mean=y_pred_wop[i],cov=covariance_matrix,size=1000)\n",
    "    #plt.hist(params_dist[:,3])\n",
    "    params_dist_wop.append(params_dist_val)"
   ]
  },
  {
   "cell_type": "code",
   "execution_count": null,
   "id": "53ff2504-c099-45fd-a855-98a2504f0e61",
   "metadata": {},
   "outputs": [],
   "source": [
    "params_dist_wp = []\n",
    "for i in range(sample_num-1):\n",
    "    covariance_matrix = np.diag(std_pred_wp[i]**2)\n",
    "    params_dist_val = multivariate_normal.rvs(mean=y_pred_wp[i],cov=covariance_matrix,size=1000)\n",
    "    #plt.hist(params_dist[:,3])\n",
    "    params_dist_wp.append(params_dist_val)"
   ]
  },
  {
   "cell_type": "code",
   "execution_count": null,
   "id": "03897235-1f0a-4262-b160-19a53597bc79",
   "metadata": {},
   "outputs": [],
   "source": [
    "params_dist_wpl = []\n",
    "for i in range(sample_num-1):\n",
    "    covariance_matrix = np.diag(std_pred_wpl[i]**2)\n",
    "    params_dist_val = multivariate_normal.rvs(mean=y_pred_wpl[i],cov=covariance_matrix,size=1000)\n",
    "    #plt.hist(params_dist[:,3])\n",
    "    params_dist_wpl.append(params_dist_val)"
   ]
  },
  {
   "cell_type": "code",
   "execution_count": null,
   "id": "0074d29e-ff23-41c8-a495-fb052da8825f",
   "metadata": {},
   "outputs": [],
   "source": [
    "truth_fermat_potentials = (fermat_potentials.fermat_potential_at_image_positions(y_test[0], x_im_test[0], y_im_test[0]))"
   ]
  },
  {
   "cell_type": "code",
   "execution_count": null,
   "id": "1fb1faed-5298-4e71-8175-6256760523ed",
   "metadata": {},
   "outputs": [],
   "source": [
    "#truth_fermat_arr = []\n",
    "#for i in range(0,3):\n",
    " #   truth_fermat_arr.append(truth_fermat_potentials[0]-truth_fermat_potentials[i+1])\n",
    "#truth_fermat_arr = np.array(truth_fermat_arr)\n",
    "arr = np.array([-9, -4, -6])\n",
    "max_val = max(arr)\n",
    "min_val = min(arr)\n",
    "print(arr)\n",
    "print(max_val)\n",
    "print(min_val)\n",
    "abs_max = max(max(arr), min(arr), key=abs)\n",
    "print(abs_max)\n",
    "abs_max_loc =  np.where(arr==abs_max)\n",
    "print(abs_max_loc)"
   ]
  },
  {
   "cell_type": "code",
   "execution_count": null,
   "id": "24c06407-fb5c-429c-a8a1-744d0c2067f7",
   "metadata": {},
   "outputs": [],
   "source": [
    "# Plotting histograms\n",
    "n = 0\n",
    "color = ['slategray', 'firebrick', 'goldenrod']\n",
    "label = ['Without Perturber', 'With Perturber', 'With Perturber Light']\n",
    "for i in range(sample_num-1):\n",
    "    sampled_fermat_potentials_wop = []\n",
    "    sampled_fermat_potentials_wp = []\n",
    "    sampled_fermat_potentials_wpl = []\n",
    "    \n",
    "    for lens_params in params_dist_wop[i]:\n",
    "        sampled_fermat_potentials_wop.append(fermat_potentials.fermat_potential_at_image_positions(lens_params, x_im_test[i], y_im_test[i]))\n",
    "    for lens_params in params_dist_wp[i]:\n",
    "        sampled_fermat_potentials_wp.append(fermat_potentials.fermat_potential_at_image_positions(lens_params, x_im_test[i], y_im_test[i]))\n",
    "    for lens_params in params_dist_wpl[i]:\n",
    "        sampled_fermat_potentials_wpl.append(fermat_potentials.fermat_potential_at_image_positions(lens_params, x_im_test[i], y_im_test[i]))\n",
    "\n",
    "    sampled_fermat_potentials_wop = np.asarray(sampled_fermat_potentials_wop)\n",
    "    sampled_fermat_potentials_wp = np.asarray(sampled_fermat_potentials_wp)\n",
    "    sampled_fermat_potentials_wpl = np.asarray(sampled_fermat_potentials_wpl)\n",
    "    truth_fermat_potentials = (fermat_potentials.fermat_potential_at_image_positions(y_test[i], x_im_test[i], y_im_test[i]))\n",
    "\n",
    "    #Find location of largest time delay and plot one set of hitograms for each quad\n",
    "    if sampled_fermat_potentials_wop[i].shape == (4,) and sampled_fermat_potentials_wp[i].shape == (4,) and sampled_fermat_potentials_wpl[i].shape == (4,) and truth_fermat_potentials.shape == (4,):\n",
    "        \n",
    "        fig,axs = plt.subplots(1,figsize=(12,4))\n",
    "        im_labels = ['AB','AC','AD']\n",
    "        truth_arr = []\n",
    "        sample_wop_arr = []\n",
    "        sample_wp_arr = []\n",
    "        sample_wpl_arr = []\n",
    "        \n",
    "        for j in range(0,3):\n",
    "            truth_arr.append(truth_fermat_potentials[0]-truth_fermat_potentials[j+1])\n",
    "            sample_wop_arr.append(sampled_fermat_potentials_wop[:,0]-sampled_fermat_potentials_wop[:,j+1])\n",
    "            sample_wp_arr.append(sampled_fermat_potentials_wp[:,0]-sampled_fermat_potentials_wp[:,j+1])\n",
    "            sample_wpl_arr.append(sampled_fermat_potentials_wpl[:,0]-sampled_fermat_potentials_wpl[:,j+1])\n",
    "            \n",
    "        truth_arr = np.array(truth_arr)\n",
    "        abs_max = max(max(truth_arr), min(truth_arr), key=abs)\n",
    "        abs_max_loc =  np.where(truth_arr==abs_max)\n",
    "        abs_max_loc = int(abs_max_loc[0])\n",
    "        \n",
    "        counts,bins,_ = axs.hist(sample_wop_arr[abs_max_loc],bins=20, histtype=u'step', color='slategray')\n",
    "        counts,bins,_ = axs.hist(sample_wp_arr[abs_max_loc],bins=20, histtype=u'step', color='firebrick')\n",
    "        counts,bins,_ = axs.hist(sample_wpl_arr[abs_max_loc],bins=20, histtype=u'step', color='goldenrod')\n",
    "        axs.vlines(truth_arr[abs_max_loc],0,np.max(counts),zorder=200,color='red')\n",
    "        axs.set_title('$\\Delta\\phi_{'+im_labels[abs_max_loc]+'}$')\n",
    "        axs.legend(handles=[mlines.Line2D([], [], color=color[i], label=label[i]) for i in range(0,3)],frameon=False, fontsize=5,loc='upper left')\n",
    "    \n",
    "    elif sampled_fermat_potentials_wop[i].shape == (3,) and sampled_fermat_potentials_wp[i].shape == (3,) and sampled_fermat_potentials_wpl[i].shape == (3,) and truth_fermat_potentials.shape == (3,):\n",
    "        fig,axs = plt.subplots(1,figsize=(12,4))\n",
    "        im_labels = ['AB','AC']\n",
    "        truth_arr = []\n",
    "        sample_wop_arr = []\n",
    "        sample_wp_arr = []\n",
    "        sample_wpl_arr = []\n",
    "\n",
    "        for j in range(0,2):\n",
    "            truth_arr.append(truth_fermat_potentials[0]-truth_fermat_potentials[j+1])\n",
    "            sample_wop_arr.append(sampled_fermat_potentials_wop[:,0]-sampled_fermat_potentials_wop[:,j+1])\n",
    "            sample_wp_arr.append(sampled_fermat_potentials_wp[:,0]-sampled_fermat_potentials_wp[:,j+1])\n",
    "            sample_wpl_arr.append(sampled_fermat_potentials_wpl[:,0]-sampled_fermat_potentials_wpl[:,j+1])\n",
    "            \n",
    "        truth_arr = np.array(truth_arr)\n",
    "        abs_max = max(max(truth_arr), min(truth_arr), key=abs)\n",
    "        abs_max_loc =  np.where(truth_arr==abs_max)\n",
    "        abs_max_loc = int(abs_max_loc[0])\n",
    "        \n",
    "        counts,bins,_ = axs.hist(sample_wop_arr[abs_max_loc],bins=20, histtype=u'step', color='slategray')\n",
    "        counts,bins,_ = axs.hist(sample_wp_arr[abs_max_loc],bins=20, histtype=u'step', color='firebrick')\n",
    "        counts,bins,_ = axs.hist(sample_wpl_arr[abs_max_loc],bins=20, histtype=u'step', color='goldenrod')\n",
    "        axs.vlines(truth_arr[abs_max_loc],0,np.max(counts),zorder=200,color='red')\n",
    "        axs.set_title('$\\Delta\\phi_{'+im_labels[abs_max_loc]+'}$')\n",
    "        axs.legend(handles=[mlines.Line2D([], [], color=color[i], label=label[i]) for i in range(0,3)],frameon=False, fontsize=5,loc='upper left')\n",
    "    \n",
    "    elif sampled_fermat_potentials_wop[i].shape == (2,) and sampled_fermat_potentials_wp[i].shape == (2,) and sampled_fermat_potentials_wpl[i].shape == (2,) and truth_fermat_potentials.shape == (2,):\n",
    "        fig,axs = plt.subplots(1,figsize=(12,4))\n",
    "        counts,bins,_ = axs.hist(sampled_fermat_potentials_wop[:,0]-sampled_fermat_potentials_wop[:,1],bins=20, histtype=u'step',\n",
    "                                        color='slategray')\n",
    "        counts,bins,_ = axs.hist(sampled_fermat_potentials_wp[:,0]-sampled_fermat_potentials_wp[:,1],bins=20, histtype=u'step',\n",
    "                                        color='firebrick')\n",
    "        counts,bins,_ = axs.hist(sampled_fermat_potentials_wpl[:,0]-sampled_fermat_potentials_wpl[:,1],bins=20, histtype=u'step',\n",
    "                                        color='goldenrod')\n",
    "        axs.vlines(truth_fermat_potentials[0]-truth_fermat_potentials[1],0,np.max(counts),zorder=200,color='red')\n",
    "        axs.set_title('$\\Delta\\phi_{AB}$')\n",
    "        axs.legend(handles=[mlines.Line2D([], [], color=color[i], label=label[i]) for i in range(0,3)],frameon=False,\n",
    "                fontsize=5,loc='upper left')\n",
    "\n",
    "    else:\n",
    "        print('Index:'+str(i))\n",
    "        print('Sampled fermat potentials WoP size: '+str(sampled_fermat_potentials_wop[i].shape))\n",
    "        print('Sampled fermat potentials WP size: '+str(sampled_fermat_potentials_wp[i].shape))\n",
    "        print('Sampled fermat potentials WPL size: '+str(sampled_fermat_potentials_wpl[i].shape))\n",
    "        print('Truth fermat potentials size: '+str(truth_fermat_potentials.shape))\n",
    "        n = n+1\n",
    "\n",
    "print('Missing fermat potential differences: '+str(n))\n",
    "print(truth_fermat_potentials)"
   ]
  },
  {
   "cell_type": "markdown",
   "id": "151578cb-aeb2-47c8-a551-0d69f30c5f56",
   "metadata": {},
   "source": []
  }
 ],
 "metadata": {
  "kernelspec": {
   "display_name": "Python 3 (ipykernel)",
   "language": "python",
   "name": "python3"
  },
  "language_info": {
   "codemirror_mode": {
    "name": "ipython",
    "version": 3
   },
   "file_extension": ".py",
   "mimetype": "text/x-python",
   "name": "python",
   "nbconvert_exporter": "python",
   "pygments_lexer": "ipython3",
   "version": "3.12.1"
  }
 },
 "nbformat": 4,
 "nbformat_minor": 5
}
