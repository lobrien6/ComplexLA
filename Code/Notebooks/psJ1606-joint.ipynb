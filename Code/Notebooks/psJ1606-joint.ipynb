{
 "cells": [
  {
   "cell_type": "code",
   "execution_count": null,
   "metadata": {},
   "outputs": [],
   "source": [
    "#Initiating autoreload\n",
    "%load_ext autoreload\n",
    "%autoreload 2\n",
    "%matplotlib inline\n",
    "\n",
    "#Improting packages\n",
    "from astropy.visualization import simple_norm\n",
    "import corner\n",
    "from deep_lens_modeling import network_predictions\n",
    "from lenstronomy.LensModel.lens_model import LensModel\n",
    "from lenstronomy.Plots import lens_plot\n",
    "from lenstronomy.PointSource.point_source import PointSource\n",
    "import matplotlib.colors as mcolors\n",
    "import matplotlib.lines as mlines\n",
    "import matplotlib.pyplot as plt\n",
    "import numpy as np\n",
    "import os\n",
    "from paltas.Configs.config_handler import ConfigHandler\n",
    "import pickle\n",
    "from scipy.stats import multivariate_normal"
   ]
  },
  {
   "cell_type": "markdown",
   "metadata": {},
   "source": [
    "The goal of this notebook is to generate simulations of PSJ1606 with and without a massive perturber, and test how this affects network predictions.\n",
    "\n",
    "We use the lens model from Schmidt et al. 2023 (STRIDES). \n",
    "\n",
    "We generate simulated images using the paltas software, which calls lenstronomy.\n",
    "\n",
    "Files needed:\n",
    "- PSJ1606-2333_results.txt\n",
    "- PSJ1606-2333_paltas_config.py\n",
    "- xresnet34_068--14.58.h5  (from diag_no_R_src)\n",
    "- norms.csv\n"
   ]
  },
  {
   "cell_type": "markdown",
   "metadata": {},
   "source": [
    "### 1) Lenstronomy model"
   ]
  },
  {
   "cell_type": "code",
   "execution_count": null,
   "metadata": {},
   "outputs": [],
   "source": [
    "# load in forward model results file\n",
    "forward_model_file = '../Files/PSJ1606-2333_results.txt'\n",
    "\n",
    "# unbox components of the file\n",
    "f = open(forward_model_file,'rb')\n",
    "\"\"\"\n",
    "    - multi_band_list contains HST observation information\n",
    "    - kwargs_model contains a list of model names \n",
    "    - kwargs_result contains a list of parameters for each of the models\n",
    "    - image_likelihood_mask_list contains masks for \"bad\" pixels (ignore this for now)\n",
    "\"\"\"\n",
    "multi_band_list, kwargs_model, kwargs_result, image_likelihood_mask_list = pickle.load(f)\n",
    "f.close()\n",
    "\n",
    "# create lens model\n",
    "kwargs_model['lens_model_list'][0] = 'EPL'\n",
    "lens_model = LensModel(kwargs_model['lens_model_list'])\n",
    "# create LENSED_POSITION point source model\n",
    "ps_model = PointSource([kwargs_model['point_source_model_list'][0]],lens_model=lens_model)\n",
    "# solve for source position\n",
    "x_src, y_src = ps_model.source_position(kwargs_ps=[kwargs_result['kwargs_ps'][0]],\n",
    "                kwargs_lens=kwargs_result['kwargs_lens'])\n",
    "\n",
    "\n",
    "f, ax = plt.subplots(1, 1, figsize=(15, 15), sharex=False, sharey=False)\n",
    "lens_plot.lens_model_plot(ax, lensModel=lens_model, kwargs_lens=kwargs_result['kwargs_lens'], \n",
    "                        sourcePos_x=x_src[0], \n",
    "                        sourcePos_y=y_src[0], \n",
    "                        point_source=True, with_caustics=True, fast_caustic=False, \n",
    "                        coord_inverse=True,numPix=80,deltaPix=0.04,with_convergence=False)\n",
    "plt.xticks([])\n",
    "plt.yticks([])\n",
    "f.show()\n",
    "f.savefig('../../Images/lenstronomy_model.png',bbox_inches=('tight'))"
   ]
  },
  {
   "cell_type": "markdown",
   "metadata": {},
   "source": [
    "### 2) Paltas Model Without Perturber ###"
   ]
  },
  {
   "cell_type": "code",
   "execution_count": null,
   "metadata": {},
   "outputs": [],
   "source": [
    "paltas_psj1606 = ConfigHandler('../Configs/PSJ1606-2333-wop_paltas_config.py')\n",
    "im_wop,metadata = paltas_psj1606.draw_image()\n",
    "plt.axis('off')\n",
    "plt.imshow(im_wop,norm=simple_norm(im_wop,stretch='log',min_cut=1e-6))\n",
    "plt.savefig('../../Images/psj1606-paltas_wop.png',bbox_inches='tight')"
   ]
  },
  {
   "cell_type": "code",
   "execution_count": null,
   "metadata": {},
   "outputs": [],
   "source": [
    "# generate an image & store it so we can feed it into the neural network\n",
    "os.system('python /Users/Logan/AppData/Local/Programs/Python/Python312/Lib/site-packages/paltas/paltas/generate.py ../Configs/PSJ1606-2333-wop_paltas_config.py ../../Images/PSJ1606-2333-wop_image --n 1 --tf_record')"
   ]
  },
  {
   "cell_type": "markdown",
   "metadata": {},
   "source": [
    "### 3) Generate Network Predictions Without Perturber"
   ]
  },
  {
   "cell_type": "code",
   "execution_count": null,
   "metadata": {},
   "outputs": [],
   "source": [
    "# compute predictions for test sets \n",
    "path_to_weights = '../Files/xresnet34_068--14.58.h5'\n",
    "path_to_norms = '../Files/norms.csv'\n",
    "\n",
    "learning_params = ['main_deflector_parameters_theta_E','main_deflector_parameters_gamma1',\n",
    "                   'main_deflector_parameters_gamma2','main_deflector_parameters_gamma',\n",
    "                   'main_deflector_parameters_e1','main_deflector_parameters_e2',\n",
    "                   'main_deflector_parameters_center_x','main_deflector_parameters_center_y',\n",
    "                   'source_parameters_center_x','source_parameters_center_y']\n",
    "learning_params_names = [r'$\\theta_\\mathrm{E}$',r'$\\gamma_1$',r'$\\gamma_2$',r'$\\gamma_\\mathrm{lens}$',r'$e_1$',\n",
    "\t\t\t\t\t\t\t\tr'$e_2$',r'$x_{lens}$',r'$y_{lens}$',r'$x_{src}$',r'$y_{src}$']\n",
    "\n",
    "model_predictions = network_predictions.NetworkPredictions(path_to_weights,path_to_norms,\n",
    "    learning_params,loss_type='diag',model_type='xresnet34',norm_type='lognorm')"
   ]
  },
  {
   "cell_type": "code",
   "execution_count": null,
   "metadata": {},
   "outputs": [],
   "source": [
    "y_test, y_pred_wop, std_pred_wop, prec_pred_wop = model_predictions.gen_network_predictions(test_folder='../../Images/PSJ1606-2333-wop_image')\n",
    "\n",
    "# NOTE: there is a mismatch in the coordinate system, so I have to transform x,y predictions accordingly (this doesn't change the results)\n",
    "# x-coords\n",
    "y_pred_wop[:,6] = - (y_pred_wop[:,6]-0.02)\n",
    "y_pred_wop[:,8] = - (y_pred_wop[:,8]-0.02)\n",
    "# y-coords\n",
    "y_pred_wop[:,7] = - (y_pred_wop[:,7]+0.02)\n",
    "y_pred_wop[:,9] = - (y_pred_wop[:,9]+0.02)"
   ]
  },
  {
   "cell_type": "markdown",
   "metadata": {},
   "source": [
    "### 4) Paltas Model With Perturber ###"
   ]
  },
  {
   "cell_type": "code",
   "execution_count": null,
   "metadata": {},
   "outputs": [],
   "source": [
    "paltas_psj1606 = ConfigHandler('../Configs/PSJ1606-2333-wp_paltas_config.py')\n",
    "im_wp,metadata = paltas_psj1606.draw_image()\n",
    "plt.axis('off')\n",
    "plt.imshow(im_wp,norm=simple_norm(im_wp,stretch='log',min_cut=1e-6))\n",
    "plt.savefig('../../Images/psJ1606-paltas_wp.png',bbox_inches='tight')"
   ]
  },
  {
   "cell_type": "code",
   "execution_count": null,
   "metadata": {},
   "outputs": [],
   "source": [
    "# generate an image & store it so we can feed it into the neural network\n",
    "os.system('python /Users/Logan/AppData/Local/Programs/Python/Python312/Lib/site-packages/paltas/paltas/generate.py ../Configs/PSJ1606-2333-wp_paltas_config.py ../../Images/PSJ1606-2333-wp_image --n 1 --save_png_too --tf_record')"
   ]
  },
  {
   "cell_type": "markdown",
   "metadata": {},
   "source": [
    "### 5) Generate Network Predictions With Perturber ###"
   ]
  },
  {
   "cell_type": "code",
   "execution_count": null,
   "metadata": {},
   "outputs": [],
   "source": [
    "# compute predictions for test sets \n",
    "path_to_weights = '../Files/xresnet34_068--14.58.h5'\n",
    "path_to_norms = '../Files/norms.csv'\n",
    "\n",
    "learning_params = ['main_deflector_parameters_theta_E','main_deflector_parameters_gamma1',\n",
    "                   'main_deflector_parameters_gamma2','main_deflector_parameters_gamma',\n",
    "                   'main_deflector_parameters_e1','main_deflector_parameters_e2',\n",
    "                   'main_deflector_parameters_center_x','main_deflector_parameters_center_y',\n",
    "                   'source_parameters_center_x','source_parameters_center_y']\n",
    "learning_params_names = [r'$\\theta_\\mathrm{E}$',r'$\\gamma_1$',r'$\\gamma_2$',r'$\\gamma_\\mathrm{lens}$',r'$e_1$',\n",
    "\t\t\t\t\t\t\t\tr'$e_2$',r'$x_{lens}$',r'$y_{lens}$',r'$x_{src}$',r'$y_{src}$']\n",
    "\n",
    "model_predictions = network_predictions.NetworkPredictions(path_to_weights,path_to_norms,\n",
    "    learning_params,loss_type='diag',model_type='xresnet34',norm_type='lognorm')"
   ]
  },
  {
   "cell_type": "code",
   "execution_count": null,
   "metadata": {},
   "outputs": [],
   "source": [
    "y_test, y_pred_wp, std_pred_wp, prec_pred_wp = model_predictions.gen_network_predictions(test_folder='../../Images/PSJ1606-2333-wp_image')\n",
    "\n",
    "# NOTE: there is a mismatch in the coordinate system, so I have to transform x,y predictions accordingly (this doesn't change the results)\n",
    "# x-coords\n",
    "y_pred_wp[:,6] = - (y_pred_wp[:,6]-0.02)\n",
    "y_pred_wp[:,8] = - (y_pred_wp[:,8]-0.02)\n",
    "# y-coords\n",
    "y_pred_wp[:,7] = - (y_pred_wp[:,7]+0.02)\n",
    "y_pred_wp[:,9] = - (y_pred_wp[:,9]+0.02)"
   ]
  },
  {
   "cell_type": "markdown",
   "metadata": {},
   "source": [
    "### 6) Paltas Model With Perturber Light ###"
   ]
  },
  {
   "cell_type": "code",
   "execution_count": null,
   "metadata": {},
   "outputs": [],
   "source": [
    "paltas_psj1606 = ConfigHandler('../Configs/PSJ1606-2333-wpl_paltas_config.py')\n",
    "im_wpl,metadata = paltas_psj1606.draw_image()\n",
    "plt.axis('off')\n",
    "plt.imshow(im_wpl,norm=simple_norm(im_wpl,stretch='log',min_cut=1e-6))\n",
    "plt.savefig('../../Images/psJ1606-paltas_wpl.png',bbox_inches='tight')"
   ]
  },
  {
   "cell_type": "code",
   "execution_count": null,
   "metadata": {},
   "outputs": [],
   "source": [
    "# generate an image & store it so we can feed it into the neural network\n",
    "os.system('python /Users/Logan/AppData/Local/Programs/Python/Python312/Lib/site-packages/paltas/paltas/generate.py ../Configs/PSJ1606-2333-wpl_paltas_config.py ../../Images/PSJ1606-2333-wpl_image --n 1 --save_png_too --tf_record')"
   ]
  },
  {
   "cell_type": "markdown",
   "metadata": {},
   "source": [
    "### 7) Generate Network Predictions with Perturber Light ###"
   ]
  },
  {
   "cell_type": "code",
   "execution_count": null,
   "metadata": {},
   "outputs": [],
   "source": [
    "# compute predictions for test sets \n",
    "path_to_weights = '../Files/xresnet34_068--14.58.h5'\n",
    "path_to_norms = '../Files/norms.csv'\n",
    "\n",
    "learning_params = ['main_deflector_parameters_theta_E','main_deflector_parameters_gamma1',\n",
    "                   'main_deflector_parameters_gamma2','main_deflector_parameters_gamma',\n",
    "                   'main_deflector_parameters_e1','main_deflector_parameters_e2',\n",
    "                   'main_deflector_parameters_center_x','main_deflector_parameters_center_y',\n",
    "                   'source_parameters_center_x','source_parameters_center_y']\n",
    "learning_params_names = [r'$\\theta_\\mathrm{E}$',r'$\\gamma_1$',r'$\\gamma_2$',r'$\\gamma_\\mathrm{lens}$',r'$e_1$',\n",
    "\t\t\t\t\t\t\t\tr'$e_2$',r'$x_{lens}$',r'$y_{lens}$',r'$x_{src}$',r'$y_{src}$']\n",
    "\n",
    "model_predictions = network_predictions.NetworkPredictions(path_to_weights,path_to_norms,\n",
    "    learning_params,loss_type='diag',model_type='xresnet34',norm_type='lognorm')"
   ]
  },
  {
   "cell_type": "code",
   "execution_count": null,
   "metadata": {},
   "outputs": [],
   "source": [
    "y_test, y_pred_wpl, std_pred_wpl, prec_pred_wpl = model_predictions.gen_network_predictions(test_folder='../../Images/PSJ1606-2333-wpl_image')\n",
    "\n",
    "# NOTE: there is a mismatch in the coordinate system, so I have to transform x,y predictions accordingly (this doesn't change the results)\n",
    "# x-coords\n",
    "y_pred_wpl[:,6] = - (y_pred_wpl[:,6]-0.02)\n",
    "y_pred_wpl[:,8] = - (y_pred_wpl[:,8]-0.02)\n",
    "# y-coords\n",
    "y_pred_wpl[:,7] = - (y_pred_wpl[:,7]+0.02)\n",
    "y_pred_wpl[:,9] = - (y_pred_wpl[:,9]+0.02)"
   ]
  },
  {
   "cell_type": "markdown",
   "metadata": {},
   "source": [
    "### 8) Paltas Model Residual ###"
   ]
  },
  {
   "cell_type": "code",
   "execution_count": null,
   "metadata": {},
   "outputs": [],
   "source": [
    "#Defining im_ris\n",
    "im_ris_wpl = im_wpl-im_wop\n",
    "resid_norm =mcolors.TwoSlopeNorm(vmin=-0.025,vcenter=0,vmax=0.025)\n",
    "\n",
    "#Plotting residual\n",
    "plt.axis('off')\n",
    "plt.imshow(im_ris_wpl,norm=resid_norm,cmap='bwr')\n",
    "plt.savefig('../../Images/psJ1606-paltas_ris.jpg',bbox_inches='tight')"
   ]
  },
  {
   "cell_type": "markdown",
   "metadata": {},
   "source": [
    "### 9) Interpret Output from the Network ###"
   ]
  },
  {
   "cell_type": "code",
   "execution_count": null,
   "metadata": {},
   "outputs": [],
   "source": [
    "posterior_samples_wop = multivariate_normal(mean=y_pred_wop[0],cov=np.linalg.inv(prec_pred_wop[0])).rvs(size=int(5e3))\n",
    "posterior_samples_wp = multivariate_normal(mean=y_pred_wp[0],cov=np.linalg.inv(prec_pred_wp[0])).rvs(size=int(5e3))\n",
    "posterior_samples_wpl = multivariate_normal(mean=y_pred_wpl[0],cov=np.linalg.inv(prec_pred_wpl[0])).rvs(size=int(5e3))\n",
    "\n",
    "fig = corner.corner(posterior_samples_wop,labels=np.asarray(learning_params_names),bins=20,\n",
    "            show_titles=True,plot_datapoints=False,label_kwargs=dict(fontsize=30),\n",
    "            levels=[0.68,0.95],color='dimgrey',fill_contours=True,smooth=1.0,\n",
    "            hist_kwargs={'density':True,'color':'slategrey','lw':3},title_fmt='.2f',max_n_ticks=3,fig=None,\n",
    "            truths=y_test[0],\n",
    "            truth_color='black')\n",
    "corner.corner(posterior_samples_wp,labels=np.asarray(learning_params_names),bins=20,\n",
    "            show_titles=True,plot_datapoints=False,label_kwargs=dict(fontsize=30),\n",
    "            levels=[0.68,0.95],color='lightcoral',fill_contours=True,smooth=1.0,\n",
    "            hist_kwargs={'density':True,'color':'firebrick','lw':3},title_fmt='.2f',max_n_ticks=3,fig=fig)\n",
    "corner.corner(posterior_samples_wpl,labels=np.asarray(learning_params_names),bins=20,\n",
    "            show_titles=True,plot_datapoints=False,label_kwargs=dict(fontsize=30),\n",
    "            levels=[0.68,0.95],color='darkorange',fill_contours=True,smooth=1.0,\n",
    "            hist_kwargs={'density':True,'color':'goldenrod','lw':3},title_fmt='.2f',max_n_ticks=3,fig=fig)\n",
    "\n",
    "color = ['slategrey', 'firebrick', 'goldenrod']\n",
    "label = ['Without Perturber', 'With Perturber', 'With Perturber Light']\n",
    "axes = np.array(fig.axes).reshape(10, 10)\n",
    "axes[0,10-2].legend(handles=[mlines.Line2D([], [], color=color[i], label=label[i]) for i in range(0,3)],frameon=False,\n",
    "                fontsize=30,loc=10)\n",
    "\n",
    "im_wop = plt.imread('../../Images/psJ1606-paltas_wop.png')\n",
    "im_wp = plt.imread('../../Images/psJ1606-paltas_wp.png')\n",
    "im_wpl = plt.imread('../../Images/psJ1606-paltas_wpl.png')\n",
    "axes[0,3].imshow(im_wop)\n",
    "axes[0,4].imshow(im_wp)\n",
    "axes[0,5].imshow(im_wpl)\n",
    "\n",
    "plt.savefig('../../Images/psJ1606-joint_cornerplot.png')"
   ]
  },
  {
   "cell_type": "code",
   "execution_count": null,
   "metadata": {},
   "outputs": [],
   "source": []
  }
 ],
 "metadata": {
  "kernelspec": {
   "display_name": "Python 3",
   "language": "python",
   "name": "python3"
  },
  "language_info": {
   "codemirror_mode": {
    "name": "ipython",
    "version": 3
   },
   "file_extension": ".py",
   "mimetype": "text/x-python",
   "name": "python",
   "nbconvert_exporter": "python",
   "pygments_lexer": "ipython3",
   "version": "3.12.1"
  }
 },
 "nbformat": 4,
 "nbformat_minor": 4
}
