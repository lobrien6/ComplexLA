{
 "cells": [
  {
   "cell_type": "code",
   "execution_count": null,
   "id": "86985399-7ea1-434e-abfc-99ef00aa7f97",
   "metadata": {},
   "outputs": [],
   "source": [
    "#Initiating autoreload\n",
    "%load_ext autoreload\n",
    "%autoreload 2\n",
    "%matplotlib inline\n",
    "\n",
    "#Adding parent directory to working path\n",
    "import os\n",
    "import sys\n",
    "\n",
    "parent_dir = os.path.abspath(os.path.join(os.getcwd(), os.pardir))\n",
    "sys.path.append(parent_dir)\n",
    "\n",
    "#Improting packages\n",
    "from astropy.visualization import AsinhStretch, ImageNormalize, simple_norm\n",
    "import corner\n",
    "import matplotlib.colors as mcolors\n",
    "import matplotlib.lines as mlines\n",
    "import matplotlib.pyplot as plt\n",
    "import numpy as np\n",
    "from Scripts import lens_parameters, paltas_model, metrics, network_predictions\n",
    "from scipy.stats import multivariate_normal"
   ]
  },
  {
   "cell_type": "markdown",
   "id": "cbd0759b-8200-41b4-8f14-ec36a92716bb",
   "metadata": {},
   "source": [
    "### 1) Generate Sample Parameters ###\n",
    "\n",
    "First we will need to generate a catalog of lens parameters that are drawn from the distributions in the csv file we are calling here.\n",
    "\n",
    "If you already have the parameters for your test sets then this module is optional."
   ]
  },
  {
   "cell_type": "code",
   "execution_count": null,
   "id": "aaf0f9cc-567e-4193-b21e-b43447047929",
   "metadata": {},
   "outputs": [],
   "source": [
    "#Defining how many lenses will be generated in the sample\n",
    "sample_num = 101\n",
    "\n",
    "#Defining how many parameters each lens has\n",
    "param_num = 10\n",
    "\n",
    "param_names = ['index','z_lens', 'gamma_md', 'theta_E_md', 'e1_md', 'e2_md', 'center_x_md', 'center_y_md', 'gamma1_md', 'gamma2_md', 'p_center_x', 'p_center_y', 'z_source', 'mag_app_source', 'R_sersic_source',\n",
    "               'n_sersic_source', 'e1_source', 'e2_source', 'center_x_source', 'center_y_source', 'z_lens_light', 'mag_app_light', 'R_sersic_light', 'n_sersic_light', 'e1_light', 'e2_light', \n",
    "               'z_point_source', 'x_point_source', 'y_point_source', 'mag_app_point_source']\n",
    "\n",
    "#Generating the parameters to be used in the sample\n",
    "param_dict = lens_parameters.perturberparameters(sample_num)\n",
    "\n",
    "with open('../../Data-Tables/perturber_parameters_catalog.csv', 'w+') as f:\n",
    "    np.savetxt(f, param_names, fmt='%s', newline=',')\n",
    "    f.write('\\n')\n",
    "    np.savetxt(f, param_dict, fmt='%1.15f', delimiter=',')"
   ]
  },
  {
   "cell_type": "markdown",
   "id": "5b883803-9a34-4115-b99e-d4d31e05e566",
   "metadata": {},
   "source": [
    "### 2) Paltas Models\n",
    "\n",
    "Next we will draw images of our lenses and visually inspect them."
   ]
  },
  {
   "cell_type": "code",
   "execution_count": null,
   "id": "4a003e8f-4f0c-4235-a200-abce2ee9668d",
   "metadata": {},
   "outputs": [],
   "source": [
    "config_file='../Configs/main_deflector_config.py'\n",
    "im_wop, metadata = paltas_model.PaltasModel(config_file)\n",
    "plt.axis('off')\n",
    "plt.imshow(im_wop,norm=simple_norm(im_wop,stretch='log',min_cut=1e-6))"
   ]
  },
  {
   "cell_type": "code",
   "execution_count": null,
   "id": "a1707c8f-67b4-453a-a915-64cfcbae71dd",
   "metadata": {},
   "outputs": [],
   "source": [
    "config_file='../Configs/dark_perturber_config.py'\n",
    "im_wp, metadata = paltas_model.PaltasModel(config_file)\n",
    "plt.axis('off')\n",
    "plt.imshow(im_wp,norm=simple_norm(im_wp,stretch='log',min_cut=1e-6))"
   ]
  },
  {
   "cell_type": "code",
   "execution_count": null,
   "id": "d80d3871-ed4b-48af-921c-778c447ed7e4",
   "metadata": {},
   "outputs": [],
   "source": [
    "config_file='../Configs/luminous_perturber_config.py'\n",
    "im_wpl, metadata = paltas_model.PaltasModel(config_file)\n",
    "plt.axis('off')\n",
    "plt.imshow(im_wpl,norm=simple_norm(im_wpl,stretch='log',min_cut=1e-6))"
   ]
  },
  {
   "cell_type": "markdown",
   "id": "0f0ce07f",
   "metadata": {},
   "source": [
    "### 2.5) Residuals ###\n",
    "\n",
    "We will plot the residual between the image with a luminous perturber added to the main deflector and the image with just a main deflector to check that the image positions of the source are changing."
   ]
  },
  {
   "cell_type": "markdown",
   "id": "04226a8b",
   "metadata": {},
   "source": [
    "Luminous Perturber Residual"
   ]
  },
  {
   "cell_type": "code",
   "execution_count": null,
   "id": "86ccddc4",
   "metadata": {},
   "outputs": [],
   "source": [
    "#Defining im_ris\n",
    "im_ris_wpl = im_wpl-im_wop\n",
    "resid_norm =mcolors.TwoSlopeNorm(vmin=-0.025,vcenter=0,vmax=0.025)\n",
    "\n",
    "#Plotting residual\n",
    "plt.axis('off')\n",
    "plt.imshow(im_ris_wpl,norm=resid_norm,cmap='bwr')"
   ]
  },
  {
   "cell_type": "markdown",
   "id": "ea92d315-921e-486f-9b5a-317c144f65c7",
   "metadata": {},
   "source": [
    "### 3) Generate Images for the Network ###\n",
    "\n",
    "This section will generate the images that will be shown to the neural network."
   ]
  },
  {
   "cell_type": "code",
   "execution_count": null,
   "id": "53f7722b-26af-4380-b942-706052e43451",
   "metadata": {},
   "outputs": [],
   "source": [
    "#Defining sample number in case the above parameter generation was not ran\n",
    "sample_num = 101\n",
    "\n",
    "#Generating images for test set without a perturber\n",
    "config_file = '../Configs/main_deflector_config.py'\n",
    "image_path = '../Images_for_Network/perturber_sample_wop_image'\n",
    "y_test, y_pred_wop, std_pred_wop, prec_pred_wop = network_predictions.Predictions(config_file, image_path, sample_num=sample_num)\n",
    "\n",
    "#Generating images for test set with a dark perturber\n",
    "config_file = '../Configs/dark_perturber_config.py'\n",
    "image_path = '../Images_for_Network/perturber_sample_wp_image'\n",
    "y_test, y_pred_wp, std_pred_wp, prec_pred_wp = network_predictions.Predictions(config_file, image_path, sample_num=sample_num)\n",
    "\n",
    "#Generating images for test set with a luminous perturber\n",
    "config_file = '../Configs/luminous_perturber_config.py'\n",
    "image_path = '../Images_for_Network/perturber_sample_wpl_image'\n",
    "y_test, y_pred_wpl, std_pred_wpl, prec_pred_wpl = network_predictions.Predictions(config_file, image_path, sample_num=sample_num)"
   ]
  },
  {
   "cell_type": "markdown",
   "id": "e1b99d54",
   "metadata": {},
   "source": [
    "### 3.1) ###\n",
    "\n",
    "Now we will plot all 100 lenses for each test sample and check the residuals."
   ]
  },
  {
   "cell_type": "markdown",
   "id": "a7591129",
   "metadata": {},
   "source": [
    "Test set without a perturber."
   ]
  },
  {
   "cell_type": "code",
   "execution_count": null,
   "id": "c7bfb30a",
   "metadata": {},
   "outputs": [],
   "source": [
    "#Initializing array that will store the images from the image path\n",
    "im_wop = []\n",
    "image_path_wop = '../Images_for_Network/perturber_sample_wop_image/'\n",
    "\n",
    "#Populating image array\n",
    "for file in os.listdir(image_path_wop):\n",
    "    if file.endswith('.npy'):\n",
    "        im_wop.append(file)\n",
    "\n",
    "#Defining details of the grid\n",
    "im_wop = np.asarray(im_wop)\n",
    "fig,axs = plt.subplots(10,10,figsize=(10,10))\n",
    "n_cols = 10\n",
    "norm = ImageNormalize(np.load(image_path_wop+im_wop[2]),stretch=AsinhStretch())\n",
    "\n",
    "for i in range(0,sample_num-1):\n",
    "    axs[i//n_cols,i%n_cols].imshow(np.load(image_path_wop+im_wop[i]), norm=norm)\n",
    "    axs[i//n_cols,i%n_cols].set_xticks([])\n",
    "    axs[i//n_cols,i%n_cols].set_yticks([])\n",
    "    \n",
    "plt.show()  "
   ]
  },
  {
   "cell_type": "markdown",
   "id": "7bdc0a6a",
   "metadata": {},
   "source": [
    "Test set with a dark perturber."
   ]
  },
  {
   "cell_type": "code",
   "execution_count": null,
   "id": "c15eef05",
   "metadata": {},
   "outputs": [],
   "source": [
    "#Initializing array that will store the images from the image path\n",
    "im_wp = []\n",
    "image_path_wp = '../Images_for_Network/perturber_sample_wp_image/'\n",
    "\n",
    "#Populating image array\n",
    "for file in os.listdir(image_path_wp):\n",
    "    if file.endswith('.npy'):\n",
    "        im_wp.append(file)\n",
    "\n",
    "#Defining details of the grid\n",
    "im_wp = np.asarray(im_wp)\n",
    "fig,axs = plt.subplots(10,10,figsize=(10,10))\n",
    "n_cols = 10\n",
    "norm = ImageNormalize(np.load(image_path_wp+im_wp[2]),stretch=AsinhStretch())\n",
    "\n",
    "for i in range(0,sample_num-1):\n",
    "    axs[i//n_cols,i%n_cols].imshow(np.load(image_path_wp+im_wp[i]), norm=norm)\n",
    "    axs[i//n_cols,i%n_cols].set_xticks([])\n",
    "    axs[i//n_cols,i%n_cols].set_yticks([])\n",
    "    \n",
    "plt.show()  "
   ]
  },
  {
   "cell_type": "markdown",
   "id": "9056cb4a",
   "metadata": {},
   "source": [
    "Test set with a luminous perturber."
   ]
  },
  {
   "cell_type": "code",
   "execution_count": null,
   "id": "2e9139bd",
   "metadata": {},
   "outputs": [],
   "source": [
    "#Initializing array that will store the images from the image path\n",
    "im_wpl = []\n",
    "image_path_wpl = '../Images_for_Network/perturber_sample_wpl_image/'\n",
    "\n",
    "#Populating image array\n",
    "for file in os.listdir(image_path_wpl):\n",
    "    if file.endswith('.npy'):\n",
    "        im_wpl.append(file)\n",
    "\n",
    "#Defining details of the grid\n",
    "im_wpl = np.asarray(im_wpl)\n",
    "fig,axs = plt.subplots(10,10,figsize=(10,10))\n",
    "n_cols = 10\n",
    "norm = ImageNormalize(np.load(image_path_wpl+im_wpl[2]),stretch=AsinhStretch())\n",
    "\n",
    "for i in range(0,sample_num-1):\n",
    "    axs[i//n_cols,i%n_cols].imshow(np.load(image_path_wpl+im_wpl[i]), norm=norm)\n",
    "    axs[i//n_cols,i%n_cols].set_xticks([])\n",
    "    axs[i//n_cols,i%n_cols].set_yticks([])\n",
    "    \n",
    "plt.show()  "
   ]
  },
  {
   "cell_type": "markdown",
   "id": "bb0088b1",
   "metadata": {},
   "source": [
    "To check that the image positions are changing when we add a perturbing mass to the main deflector we will plot the residual between the test set with a luminous perturber and the test set with just a main deflector."
   ]
  },
  {
   "cell_type": "code",
   "execution_count": null,
   "id": "953e2879",
   "metadata": {},
   "outputs": [],
   "source": [
    "#Setting the norm and color scale\n",
    "resid_norm =mcolors.TwoSlopeNorm(vmin=-0.025,vcenter=0,vmax=0.025)\n",
    "\n",
    "#Defining details of the grid\n",
    "fig,axs = plt.subplots(10,10,figsize=(10,10))\n",
    "n_cols = 10\n",
    "\n",
    "for i in range(0,sample_num-1):\n",
    "    imris = axs[i//n_cols,i%n_cols].imshow(np.load(image_path_wpl+im_wpl[i])-np.load(image_path_wop+im_wop[i]), norm=resid_norm,cmap='bwr')\n",
    "    axs[i//n_cols,i%n_cols].set_xticks([])\n",
    "    axs[i//n_cols,i%n_cols].set_yticks([])\n",
    "\n",
    "fig.colorbar(imris, ax=axs)\n",
    "plt.show()"
   ]
  },
  {
   "cell_type": "markdown",
   "id": "c69f1e18-af97-462c-b55f-384f14fafde5",
   "metadata": {},
   "source": [
    "### 4) Calculate Metrics ###"
   ]
  },
  {
   "cell_type": "code",
   "execution_count": null,
   "id": "9b7c7c2b-dde8-4126-b28a-eb9e26c50079",
   "metadata": {},
   "outputs": [],
   "source": [
    "#Generating metrics for standard deviation, accuracy, and bias\n",
    "sample_num = 101\n",
    "param_num = 10\n",
    "mean_metrics = metrics.PerturberSampleTrunc(sample_num, param_num, y_test, y_pred_wop, y_pred_wp, y_pred_wpl, std_pred_wop, std_pred_wp, std_pred_wpl)\n",
    "\n",
    "#Saving metric values to a csv file\n",
    "np.savetxt('../../Data-Tables/metrics_base.csv', mean_metrics, fmt=\"%1.2f\", delimiter=\",\")"
   ]
  },
  {
   "cell_type": "markdown",
   "id": "b2b051d9-1f83-4ab6-8c8b-8436860f20bc",
   "metadata": {},
   "source": [
    "### 5) Interpret Output from the Network ###"
   ]
  },
  {
   "cell_type": "code",
   "execution_count": null,
   "id": "39012f21",
   "metadata": {},
   "outputs": [],
   "source": [
    "# Defining the learning parameters and their names\n",
    "\n",
    "learning_params = ['main_deflector_parameters_theta_E','main_deflector_parameters_gamma1',\n",
    "                   'main_deflector_parameters_gamma2','main_deflector_parameters_gamma',\n",
    "                   'main_deflector_parameters_e1','main_deflector_parameters_e2',\n",
    "                   'main_deflector_parameters_center_x','main_deflector_parameters_center_y',\n",
    "                   'source_parameters_center_x','source_parameters_center_y']\n",
    "learning_params_names = [r'$\\theta_\\mathrm{E}$',r'$\\gamma_1$',r'$\\gamma_2$',r'$\\gamma_\\mathrm{lens}$',r'$e_1$',\n",
    "\t\t\t\t\t\t\t\tr'$e_2$',r'$x_{lens}$',r'$y_{lens}$',r'$x_{src}$',r'$y_{src}$']"
   ]
  },
  {
   "cell_type": "code",
   "execution_count": null,
   "id": "565be783-04f9-4f47-84b3-8b8f172f64ae",
   "metadata": {},
   "outputs": [],
   "source": [
    "#Generating corner plots for 10 lenses, this range can be user defined.\n",
    "for i in range(10):\n",
    "    posterior_samples_wop = multivariate_normal(mean=y_pred_wop[i],cov=np.linalg.inv(prec_pred_wop[i])).rvs(size=int(5e3))\n",
    "    posterior_samples_wp = multivariate_normal(mean=y_pred_wp[i],cov=np.linalg.inv(prec_pred_wp[i])).rvs(size=int(5e3))\n",
    "    posterior_samples_wpl = multivariate_normal(mean=y_pred_wpl[i],cov=np.linalg.inv(prec_pred_wpl[i])).rvs(size=int(5e3))\n",
    "\n",
    "    fig = corner.corner(posterior_samples_wop,labels=np.asarray(learning_params_names),bins=20,\n",
    "                show_titles=False,plot_datapoints=False,label_kwargs=dict(fontsize=30),\n",
    "                levels=[0.68,0.95],color='slategray',fill_contours=True,smooth=1.0,\n",
    "                hist_kwargs={'density':True,'color':'slategray','lw':3},title_fmt='.2f',max_n_ticks=3,fig=None,\n",
    "                truths=y_test[i],\n",
    "                truth_color='black')\n",
    "    corner.corner(posterior_samples_wp,labels=np.asarray(learning_params_names),bins=20,\n",
    "                show_titles=False,plot_datapoints=False,label_kwargs=dict(fontsize=30),\n",
    "                levels=[0.68,0.95],color='firebrick',fill_contours=True,smooth=1.0,\n",
    "                hist_kwargs={'density':True,'color':'firebrick','lw':3},title_fmt='.2f',max_n_ticks=3,fig=fig)\n",
    "    corner.corner(posterior_samples_wpl,labels=np.asarray(learning_params_names),bins=20,\n",
    "                show_titles=False,plot_datapoints=False,label_kwargs=dict(fontsize=30),\n",
    "                levels=[0.68,0.95],color='goldenrod',fill_contours=True,smooth=1.0,\n",
    "                hist_kwargs={'density':True,'color':'goldenrod','lw':3},title_fmt='.2f',max_n_ticks=3,fig=fig)\n",
    "\n",
    "    color = ['slategray', 'firebrick', 'goldenrod']\n",
    "    label = ['Without Perturber', 'With Perturber', 'With Perturber Light']\n",
    "    axes = np.array(fig.axes).reshape(param_num, param_num)\n",
    "    axes[0,param_num-2].legend(handles=[mlines.Line2D([], [], color=color[i], label=label[i]) for i in range(0,3)],frameon=False,\n",
    "                fontsize=30,loc=10)\n",
    "\n",
    "    im_wop = np.load('../Images_for_Network/perturber_sample_wop_image/image_000000'+str(i)+'.npy')\n",
    "    im_wp = np.load('../Images_for_Network/perturber_sample_wp_image/image_000000'+str(i)+'.npy')\n",
    "    im_wpl = np.load('../Images_for_Network/perturber_sample_wpl_image/image_000000'+str(i)+'.npy')\n",
    "    axes[0,3].imshow(im_wop)\n",
    "    axes[0,4].imshow(im_wp)\n",
    "    axes[0,5].imshow(im_wpl)\n",
    "\n",
    "    plt.savefig('../../Images/test_sample_corner_plots/corner_plot_'+str(i)+'.png')"
   ]
  },
  {
   "cell_type": "code",
   "execution_count": null,
   "id": "1e05ec9f",
   "metadata": {},
   "outputs": [],
   "source": []
  }
 ],
 "metadata": {
  "kernelspec": {
   "display_name": "Python 3",
   "language": "python",
   "name": "python3"
  },
  "language_info": {
   "codemirror_mode": {
    "name": "ipython",
    "version": 3
   },
   "file_extension": ".py",
   "mimetype": "text/x-python",
   "name": "python",
   "nbconvert_exporter": "python",
   "pygments_lexer": "ipython3",
   "version": "3.12.1"
  }
 },
 "nbformat": 4,
 "nbformat_minor": 5
}
