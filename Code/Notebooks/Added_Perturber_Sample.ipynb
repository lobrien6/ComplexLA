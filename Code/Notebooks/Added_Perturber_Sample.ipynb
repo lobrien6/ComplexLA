{
 "cells": [
  {
   "cell_type": "code",
   "execution_count": null,
   "id": "9ad51bb0-b132-4cfc-8cdc-0d6e77a098db",
   "metadata": {},
   "outputs": [],
   "source": [
    "#setting os path to import scripts\n",
    "import os\n",
    "import sys\n",
    "module_path = os.path.abspath(os.path.join('..'))\n",
    "if module_path not in sys.path:\n",
    "    sys.path.append(module_path)"
   ]
  },
  {
   "cell_type": "code",
   "execution_count": null,
   "id": "86985399-7ea1-434e-abfc-99ef00aa7f97",
   "metadata": {},
   "outputs": [],
   "source": [
    "from astropy.visualization import simple_norm\n",
    "import matplotlib.pyplot as plt\n",
    "from matplotlib.colors import LogNorm\n",
    "import matplotlib.lines as mlines\n",
    "from Scripts import lens_parameters, paltas_model, metrics, network_predictions\n",
    "from paltas.Configs.config_handler import ConfigHandler\n",
    "from scipy.stats import multivariate_normal\n",
    "import corner\n",
    "import numpy as np\n",
    "import pickle"
   ]
  },
  {
   "cell_type": "code",
   "execution_count": null,
   "id": "21b8d67b-e097-48d7-b92a-555aca929d57",
   "metadata": {},
   "outputs": [],
   "source": [
    "%load_ext autoreload\n",
    "%autoreload 2\n",
    "%matplotlib inline"
   ]
  },
  {
   "cell_type": "markdown",
   "id": "cbd0759b-8200-41b4-8f14-ec36a92716bb",
   "metadata": {},
   "source": [
    "### 1) Generate Sample Parameters ###"
   ]
  },
  {
   "cell_type": "code",
   "execution_count": null,
   "id": "aaf0f9cc-567e-4193-b21e-b43447047929",
   "metadata": {},
   "outputs": [],
   "source": [
    "f = open('perturber_parameters_catalog.csv', 'w+')\n",
    "f.close()\n",
    "\n",
    "#Define how many lenses will be generated in the sample\n",
    "sample_num = 101\n",
    "\n",
    "#Define how many parameters each lens has\n",
    "param_num = 10\n",
    "\n",
    "param_names = ['z_lens', 'gamma_md', 'theta_E_md', 'e1_md', 'e2_md', 'center_x_md', 'center_y_md', 'gamma1_md', 'gamma2_md', 'p_center_x', 'p_center_y', 'z_source', 'mag_app_source', 'R_sersic_source',\n",
    "               'n_sersic_source', 'e1_source', 'e2_source', 'center_x_source', 'center_y_source', 'z_lens_light', 'mag_app_light', 'R_sersic_light', 'n_sersic_light', 'e1_light', 'e2_light', \n",
    "               'z_point_source', 'x_point_source', 'y_point_source', 'mag_app_point_source']\n",
    "#Generate the parameters to be used in the sample\n",
    "param_dict = lens_parameters.perturberparameters(sample_num)\n",
    "#print(param_dict)\n",
    "\n",
    "with open('perturber_parameters_catalog.csv', 'a') as f:\n",
    "    np.savetxt(f, param_names, fmt='%s', newline=',')\n",
    "    f.write('\\n')\n",
    "    np.savetxt(f, param_dict, fmt='%1.15f', delimiter=',')"
   ]
  },
  {
   "cell_type": "markdown",
   "id": "5b883803-9a34-4115-b99e-d4d31e05e566",
   "metadata": {},
   "source": [
    "### 2) Paltas Models"
   ]
  },
  {
   "cell_type": "code",
   "execution_count": null,
   "id": "7d2d13df-dd02-404d-b7e8-b3ede293887f",
   "metadata": {},
   "outputs": [],
   "source": [
    "path = module_path+'/'"
   ]
  },
  {
   "cell_type": "code",
   "execution_count": null,
   "id": "4a003e8f-4f0c-4235-a200-abce2ee9668d",
   "metadata": {},
   "outputs": [],
   "source": [
    "im, metadata = paltas_model.PaltasModelWoP(path)\n",
    "plt.axis('off')\n",
    "plt.imshow(im,norm=simple_norm(im,stretch='log',min_cut=1e-6))"
   ]
  },
  {
   "cell_type": "code",
   "execution_count": null,
   "id": "a1707c8f-67b4-453a-a915-64cfcbae71dd",
   "metadata": {},
   "outputs": [],
   "source": [
    "im, metadata = paltas_model.PaltasModelWP(path)\n",
    "plt.axis('off')\n",
    "plt.imshow(im,norm=simple_norm(im,stretch='log',min_cut=1e-6))"
   ]
  },
  {
   "cell_type": "code",
   "execution_count": null,
   "id": "d80d3871-ed4b-48af-921c-778c447ed7e4",
   "metadata": {},
   "outputs": [],
   "source": [
    "im, metadata = paltas_model.PaltasModelWPL(path)\n",
    "plt.axis('off')\n",
    "plt.imshow(im,norm=simple_norm(im,stretch='log',min_cut=1e-6))"
   ]
  },
  {
   "cell_type": "markdown",
   "id": "ea92d315-921e-486f-9b5a-317c144f65c7",
   "metadata": {},
   "source": [
    "### 3) Generate Images for the Network ###"
   ]
  },
  {
   "cell_type": "code",
   "execution_count": null,
   "id": "53f7722b-26af-4380-b942-706052e43451",
   "metadata": {},
   "outputs": [],
   "source": [
    "sample_num = 101\n",
    "config_path = 'Configs'\n",
    "image_path = 'Images_for_Network'\n",
    "y_test, y_pred_wop, std_pred_wop, prec_pred_wop, y_pred_wp, std_pred_wp, prec_pred_wp, y_pred_wpl, std_pred_wpl, prec_pred_wpl = network_predictions.Predictions(sample_num, path, config_path, image_path)"
   ]
  },
  {
   "cell_type": "code",
   "execution_count": null,
   "id": "5f691353-8a28-4ef6-b0ae-d4b73666e697",
   "metadata": {},
   "outputs": [],
   "source": [
    "#print(y_test_wop, y_pred_wop, std_pred_wop, prec_pred_wop, y_pred_wop, std_pred_wp, prec_pred_wp, y_pred_wpl, std_pred_wpl, prec_pred_wpl)"
   ]
  },
  {
   "cell_type": "code",
   "execution_count": null,
   "id": "dd2196c2-d3be-4640-a2df-49c6c3cd8de9",
   "metadata": {},
   "outputs": [],
   "source": [
    "#file = open('Images/perturber_sample_wop_image')\n",
    "#for image in file:\n",
    " #   if image.endswith('.npy'):\n",
    "  #      print(image)\n",
    "   #     plt.imshow(np.load('Images/perturber_sample_wop_image/'+image))\n",
    "    #    plt.figure(i+2)\n",
    "    #else:\n",
    "     #   print(image)\n",
    "#plt.show()"
   ]
  },
  {
   "cell_type": "code",
   "execution_count": null,
   "id": "5b08e84a-22af-43ae-8e24-0ccd40f75d49",
   "metadata": {},
   "outputs": [],
   "source": [
    "# compute predictions for test sets \n",
    "\n",
    "learning_params = ['main_deflector_parameters_theta_E','main_deflector_parameters_gamma1',\n",
    "                   'main_deflector_parameters_gamma2','main_deflector_parameters_gamma',\n",
    "                   'main_deflector_parameters_e1','main_deflector_parameters_e2',\n",
    "                   'main_deflector_parameters_center_x','main_deflector_parameters_center_y',\n",
    "                   'source_parameters_center_x','source_parameters_center_y']\n",
    "learning_params_names = [r'$\\theta_\\mathrm{E}$',r'$\\gamma_1$',r'$\\gamma_2$',r'$\\gamma_\\mathrm{lens}$',r'$e_1$',\n",
    "\t\t\t\t\t\t\t\tr'$e_2$',r'$x_{lens}$',r'$y_{lens}$',r'$x_{src}$',r'$y_{src}$']"
   ]
  },
  {
   "cell_type": "markdown",
   "id": "c69f1e18-af97-462c-b55f-384f14fafde5",
   "metadata": {},
   "source": [
    "### 4) Calculate Metrics ###"
   ]
  },
  {
   "cell_type": "code",
   "execution_count": null,
   "id": "9b7c7c2b-dde8-4126-b28a-eb9e26c50079",
   "metadata": {},
   "outputs": [],
   "source": [
    "path0 = os.path.abspath(os.path.join(path+'..'))\n",
    "sample_num = 101\n",
    "param_num = 10\n",
    "mean_metrics = metrics.PerturberSampleTrunc(sample_num, param_num, y_test, y_pred_wop, y_pred_wp, y_pred_wpl, std_pred_wop, std_pred_wp, std_pred_wpl)\n",
    "print(mean_metrics)\n",
    "#print(median_metrics)\n",
    "np.savetxt(path0+'/Data-Tables/metrics_base.csv', mean_metrics, fmt=\"%1.2f\", delimiter=\",\")"
   ]
  },
  {
   "cell_type": "markdown",
   "id": "b2b051d9-1f83-4ab6-8c8b-8436860f20bc",
   "metadata": {},
   "source": [
    "### 5) Interpret Output from the Network ###"
   ]
  },
  {
   "cell_type": "code",
   "execution_count": null,
   "id": "565be783-04f9-4f47-84b3-8b8f172f64ae",
   "metadata": {},
   "outputs": [],
   "source": [
    "for i in range(sample_num-1):\n",
    "    posterior_samples_wop = multivariate_normal(mean=y_pred_wop[i],cov=np.linalg.inv(prec_pred_wop[i])).rvs(size=int(5e3))\n",
    "    posterior_samples_wp = multivariate_normal(mean=y_pred_wp[i],cov=np.linalg.inv(prec_pred_wp[i])).rvs(size=int(5e3))\n",
    "    posterior_samples_wpl = multivariate_normal(mean=y_pred_wpl[i],cov=np.linalg.inv(prec_pred_wpl[i])).rvs(size=int(5e3))\n",
    "\n",
    "    fig = corner.corner(posterior_samples_wop,labels=np.asarray(learning_params_names),bins=20,\n",
    "                show_titles=False,plot_datapoints=False,label_kwargs=dict(fontsize=30),\n",
    "                levels=[0.68,0.95],color='slategray',fill_contours=True,smooth=1.0,\n",
    "                hist_kwargs={'density':True,'color':'slategray','lw':3},title_fmt='.2f',max_n_ticks=3,fig=None,\n",
    "                truths=y_test[i],\n",
    "                truth_color='black')\n",
    "    corner.corner(posterior_samples_wp,labels=np.asarray(learning_params_names),bins=20,\n",
    "                show_titles=False,plot_datapoints=False,label_kwargs=dict(fontsize=30),\n",
    "                levels=[0.68,0.95],color='firebrick',fill_contours=True,smooth=1.0,\n",
    "                hist_kwargs={'density':True,'color':'firebrick','lw':3},title_fmt='.2f',max_n_ticks=3,fig=fig)\n",
    "    corner.corner(posterior_samples_wpl,labels=np.asarray(learning_params_names),bins=20,\n",
    "                show_titles=False,plot_datapoints=False,label_kwargs=dict(fontsize=30),\n",
    "                levels=[0.68,0.95],color='goldenrod',fill_contours=True,smooth=1.0,\n",
    "                hist_kwargs={'density':True,'color':'goldenrod','lw':3},title_fmt='.2f',max_n_ticks=3,fig=fig)\n",
    "\n",
    "    color = ['slategray', 'firebrick', 'goldenrod']\n",
    "    label = ['Without Perturber', 'With Perturber', 'With Perturber Light']\n",
    "    axes = np.array(fig.axes).reshape(param_num, param_num)\n",
    "    axes[0,param_num-2].legend(handles=[mlines.Line2D([], [], color=color[i], label=label[i]) for i in range(0,3)],frameon=False,\n",
    "                fontsize=30,loc=10)\n",
    "\n",
    "    #im_wop = plt.imread('Images/Paltas_Images_wop/'+str(i)+'.png')\n",
    "    #im_wp = plt.imread('Images/Paltas_Images_wp/'+str(i)+'.png')\n",
    "    #im_wpl = plt.imread('Images/Paltas_Images_wpl/'+str(i)+'.png')\n",
    "    #axes[0,3].imshow(im_wop)\n",
    "    #axes[0,4].imshow(im_wp)\n",
    "    #axes[0,5].imshow(im_wpl)\n",
    "\n",
    "    plt.savefig(path0+'/Images/test_sample_corner_plots/corner_plot_'+str(i)+'.png')"
   ]
  },
  {
   "cell_type": "code",
   "execution_count": null,
   "id": "621a6e1d-79e7-48bb-896f-98c1cd00ffe6",
   "metadata": {},
   "outputs": [],
   "source": []
  }
 ],
 "metadata": {
  "kernelspec": {
   "display_name": "Python 3 (ipykernel)",
   "language": "python",
   "name": "python3"
  },
  "language_info": {
   "codemirror_mode": {
    "name": "ipython",
    "version": 3
   },
   "file_extension": ".py",
   "mimetype": "text/x-python",
   "name": "python",
   "nbconvert_exporter": "python",
   "pygments_lexer": "ipython3",
   "version": "3.12.1"
  }
 },
 "nbformat": 4,
 "nbformat_minor": 5
}
